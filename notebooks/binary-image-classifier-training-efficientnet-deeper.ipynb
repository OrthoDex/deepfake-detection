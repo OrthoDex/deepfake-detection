{
 "cells": [
  {
   "cell_type": "markdown",
   "metadata": {},
   "source": [
    "# Training a binary image classifier for deepfakes\n",
    "\n",
    "This notebook trains an Efficientnet B7 on a deepfake face crop dataset.\n",
    "\n",
    "Note: This notebook requires wandb to be installed in your environment and for you to be logged in. If you do not wish to use wandb, please set the `tracking_active` variable to `False`."
   ]
  },
  {
   "cell_type": "code",
   "execution_count": 1,
   "metadata": {},
   "outputs": [],
   "source": [
    "tracking_active = True"
   ]
  },
  {
   "cell_type": "code",
   "execution_count": 56,
   "metadata": {},
   "outputs": [
    {
     "data": {
      "text/html": [
       "\n",
       "                Logging results to <a href=\"https://wandb.com\" target=\"_blank\">Weights & Biases</a> <a href=\"https://docs.wandb.com/integrations/jupyter.html\" target=\"_blank\">(Documentation)</a>.<br/>\n",
       "                Project page: <a href=\"https://app.wandb.ai/ishaan-malhi/deepfake-detection\" target=\"_blank\">https://app.wandb.ai/ishaan-malhi/deepfake-detection</a><br/>\n",
       "                Run page: <a href=\"https://app.wandb.ai/ishaan-malhi/deepfake-detection/runs/n13k2pt5\" target=\"_blank\">https://app.wandb.ai/ishaan-malhi/deepfake-detection/runs/n13k2pt5</a><br/>\n",
       "            "
      ],
      "text/plain": [
       "<IPython.core.display.HTML object>"
      ]
     },
     "metadata": {},
     "output_type": "display_data"
    },
    {
     "name": "stderr",
     "output_type": "stream",
     "text": [
      "\u001b[34m\u001b[1mwandb\u001b[0m: Wandb version 0.8.35 is available!  To upgrade, please run:\n",
      "\u001b[34m\u001b[1mwandb\u001b[0m:  $ pip install wandb --upgrade\n"
     ]
    },
    {
     "data": {
      "text/plain": [
       "W&B Run: https://app.wandb.ai/ishaan-malhi/deepfake-detection/runs/n13k2pt5"
      ]
     },
     "execution_count": 56,
     "metadata": {},
     "output_type": "execute_result"
    }
   ],
   "source": [
    "if tracking_active:\n",
    "    import wandb\n",
    "    wandb.init(\n",
    "        name='efficientnet-b7-deeptrain-full-dataset',\n",
    "        notes='Samples all face crops and train on full dataset',\n",
    "        project=\"deepfake-detection\"\n",
    "    )"
   ]
  },
  {
   "cell_type": "code",
   "execution_count": 2,
   "metadata": {
    "_cell_guid": "b1076dfc-b9ad-4769-8c92-a6c4dae69d19",
    "_uuid": "8f2839f25d086af736a60e9eeb907d3b93b6e0e5"
   },
   "outputs": [],
   "source": [
    "import os, sys, random\n",
    "import numpy as np\n",
    "import pandas as pd\n",
    "import cv2\n",
    "\n",
    "import torch\n",
    "import torch.nn as nn\n",
    "import torch.nn.functional as F\n",
    "\n",
    "from tqdm.notebook import tqdm\n",
    "\n",
    "%matplotlib inline\n",
    "import matplotlib.pyplot as plt"
   ]
  },
  {
   "cell_type": "code",
   "execution_count": 5,
   "metadata": {},
   "outputs": [
    {
     "data": {
      "text/plain": [
       "device(type='cuda')"
      ]
     },
     "execution_count": 5,
     "metadata": {},
     "output_type": "execute_result"
    }
   ],
   "source": [
    "gpu = torch.device(\"cuda\" if torch.cuda.is_available() else \"cpu\")\n",
    "gpu"
   ]
  },
  {
   "cell_type": "code",
   "execution_count": 8,
   "metadata": {},
   "outputs": [
    {
     "data": {
      "text/plain": [
       "0"
      ]
     },
     "execution_count": 8,
     "metadata": {},
     "output_type": "execute_result"
    }
   ],
   "source": [
    "torch.cuda.current_device()"
   ]
  },
  {
   "cell_type": "code",
   "execution_count": 6,
   "metadata": {
    "scrolled": true
   },
   "outputs": [
    {
     "data": {
      "text/plain": [
       "2"
      ]
     },
     "execution_count": 6,
     "metadata": {},
     "output_type": "execute_result"
    }
   ],
   "source": [
    "torch.cuda.device_count()"
   ]
  },
  {
   "cell_type": "code",
   "execution_count": 93,
   "metadata": {},
   "outputs": [],
   "source": [
    "image_size = 224\n",
    "batch_size = 128"
   ]
  },
  {
   "cell_type": "markdown",
   "metadata": {},
   "source": [
    "## The data\n",
    "\n",
    "We use [this dataset](https://www.kaggle.com/dagnelies/deepfake-faces) to transfer learn an Imagenet model into a binary classifier to detect deepfakes."
   ]
  },
  {
   "cell_type": "code",
   "execution_count": 94,
   "metadata": {
    "_cell_guid": "",
    "_uuid": ""
   },
   "outputs": [
    {
     "data": {
      "text/html": [
       "<div>\n",
       "<style scoped>\n",
       "    .dataframe tbody tr th:only-of-type {\n",
       "        vertical-align: middle;\n",
       "    }\n",
       "\n",
       "    .dataframe tbody tr th {\n",
       "        vertical-align: top;\n",
       "    }\n",
       "\n",
       "    .dataframe thead th {\n",
       "        text-align: right;\n",
       "    }\n",
       "</style>\n",
       "<table border=\"1\" class=\"dataframe\">\n",
       "  <thead>\n",
       "    <tr style=\"text-align: right;\">\n",
       "      <th></th>\n",
       "      <th>videoname</th>\n",
       "      <th>original_width</th>\n",
       "      <th>original_height</th>\n",
       "      <th>label</th>\n",
       "      <th>original</th>\n",
       "    </tr>\n",
       "  </thead>\n",
       "  <tbody>\n",
       "    <tr>\n",
       "      <th>0</th>\n",
       "      <td>aznyksihgl.mp4</td>\n",
       "      <td>129</td>\n",
       "      <td>129</td>\n",
       "      <td>FAKE</td>\n",
       "      <td>xnojggkrxt.mp4</td>\n",
       "    </tr>\n",
       "    <tr>\n",
       "      <th>1</th>\n",
       "      <td>gkwmalrvcj.mp4</td>\n",
       "      <td>129</td>\n",
       "      <td>129</td>\n",
       "      <td>FAKE</td>\n",
       "      <td>hqqmtxvbjj.mp4</td>\n",
       "    </tr>\n",
       "    <tr>\n",
       "      <th>2</th>\n",
       "      <td>lxnqzocgaq.mp4</td>\n",
       "      <td>223</td>\n",
       "      <td>217</td>\n",
       "      <td>FAKE</td>\n",
       "      <td>xjzkfqddyk.mp4</td>\n",
       "    </tr>\n",
       "    <tr>\n",
       "      <th>3</th>\n",
       "      <td>itsbtrrelv.mp4</td>\n",
       "      <td>186</td>\n",
       "      <td>186</td>\n",
       "      <td>FAKE</td>\n",
       "      <td>kqvepwqxfe.mp4</td>\n",
       "    </tr>\n",
       "    <tr>\n",
       "      <th>4</th>\n",
       "      <td>ddvgrczjno.mp4</td>\n",
       "      <td>155</td>\n",
       "      <td>155</td>\n",
       "      <td>FAKE</td>\n",
       "      <td>pluadmqqta.mp4</td>\n",
       "    </tr>\n",
       "  </tbody>\n",
       "</table>\n",
       "</div>"
      ],
      "text/plain": [
       "        videoname  original_width  original_height label        original\n",
       "0  aznyksihgl.mp4             129              129  FAKE  xnojggkrxt.mp4\n",
       "1  gkwmalrvcj.mp4             129              129  FAKE  hqqmtxvbjj.mp4\n",
       "2  lxnqzocgaq.mp4             223              217  FAKE  xjzkfqddyk.mp4\n",
       "3  itsbtrrelv.mp4             186              186  FAKE  kqvepwqxfe.mp4\n",
       "4  ddvgrczjno.mp4             155              155  FAKE  pluadmqqta.mp4"
      ]
     },
     "execution_count": 94,
     "metadata": {},
     "output_type": "execute_result"
    }
   ],
   "source": [
    "crops_dir = \"./data/faces_224\"\n",
    "\n",
    "metadata_df = pd.read_csv(\"./data/metadata.csv\")\n",
    "metadata_df.head()"
   ]
  },
  {
   "cell_type": "code",
   "execution_count": 95,
   "metadata": {},
   "outputs": [
    {
     "data": {
      "text/plain": [
       "95634"
      ]
     },
     "execution_count": 95,
     "metadata": {},
     "output_type": "execute_result"
    }
   ],
   "source": [
    "len(metadata_df)"
   ]
  },
  {
   "cell_type": "markdown",
   "metadata": {},
   "source": [
    "How many faces of each class do we have?"
   ]
  },
  {
   "cell_type": "code",
   "execution_count": 96,
   "metadata": {},
   "outputs": [
    {
     "data": {
      "text/plain": [
       "(16293, 79341)"
      ]
     },
     "execution_count": 96,
     "metadata": {},
     "output_type": "execute_result"
    }
   ],
   "source": [
    "len(metadata_df[metadata_df.label == \"REAL\"]), len(metadata_df[metadata_df.label == \"FAKE\"])"
   ]
  },
  {
   "cell_type": "markdown",
   "metadata": {},
   "source": [
    "Look at a random face image:"
   ]
  },
  {
   "cell_type": "code",
   "execution_count": 97,
   "metadata": {},
   "outputs": [
    {
     "data": {
      "text/plain": [
       "<matplotlib.image.AxesImage at 0x7f69a11774d0>"
      ]
     },
     "execution_count": 97,
     "metadata": {},
     "output_type": "execute_result"
    },
    {
     "data": {
      "image/png": "[encoded data removed]",
      "text/plain": [
       "<Figure size 432x288 with 1 Axes>"
      ]
     },
     "metadata": {
      "needs_background": "light"
     },
     "output_type": "display_data"
    }
   ],
   "source": [
    "img_path = os.path.join(crops_dir, np.random.choice(os.listdir(crops_dir)))\n",
    "plt.imshow(cv2.imread(img_path)[..., ::-1])"
   ]
  },
  {
   "cell_type": "markdown",
   "metadata": {},
   "source": [
    "## The dataset and data loaders"
   ]
  },
  {
   "cell_type": "markdown",
   "metadata": {},
   "source": [
    "Note: This section has code adapted from [this Kaggle Kernel](#Binary-Classification-Demo)\n",
    "\n",
    "\"Like most other torchvision models, the model we're using requires that input images are normalized using mean and stddev. For making plots, we also define an \"unnormalize\" transform that can take a normalized image and turn it back into regular pixels.\""
   ]
  },
  {
   "cell_type": "code",
   "execution_count": 98,
   "metadata": {},
   "outputs": [],
   "source": [
    "from torchvision.transforms import Normalize\n",
    "\n",
    "class Unnormalize:\n",
    "    \"\"\"Converts an image tensor that was previously Normalize'd\n",
    "    back to an image with pixels in the range [0, 1].\"\"\"\n",
    "    def __init__(self, mean, std):\n",
    "        self.mean = mean\n",
    "        self.std = std\n",
    "\n",
    "    def __call__(self, tensor):\n",
    "        mean = torch.as_tensor(self.mean, dtype=tensor.dtype, device=tensor.device).view(3, 1, 1)\n",
    "        std = torch.as_tensor(self.std, dtype=tensor.dtype, device=tensor.device).view(3, 1, 1)\n",
    "        return torch.clamp(tensor*std + mean, 0., 1.)\n",
    "\n",
    "\n",
    "mean = [0.485, 0.456, 0.406]\n",
    "std = [0.229, 0.224, 0.225]\n",
    "normalize_transform = Normalize(mean, std)\n",
    "unnormalize_transform = Unnormalize(mean, std)"
   ]
  },
  {
   "cell_type": "markdown",
   "metadata": {},
   "source": [
    "During training, we'll apply data augmentation. We try random horizontal flips. In other kernels, we try more data augmentation techniques. But in this notebook, we are interested in finding out the performance of Efficientnet."
   ]
  },
  {
   "cell_type": "code",
   "execution_count": 99,
   "metadata": {},
   "outputs": [],
   "source": [
    "def random_hflip(img, p=0.5):\n",
    "    \"\"\"Random horizontal flip.\"\"\"\n",
    "    if random.random() < p:\n",
    "        return cv2.flip(img, 1)\n",
    "    else:\n",
    "        return img"
   ]
  },
  {
   "cell_type": "markdown",
   "metadata": {},
   "source": [
    "Some helper code for loading a training image and its label:"
   ]
  },
  {
   "cell_type": "code",
   "execution_count": 100,
   "metadata": {},
   "outputs": [],
   "source": [
    "def load_image_and_label(filename, cls, crops_dir, image_size, augment):\n",
    "    \"\"\"Loads an image into a tensor. Also returns its label.\"\"\"\n",
    "    img = cv2.imread(os.path.join(crops_dir, filename))\n",
    "    img = cv2.cvtColor(img, cv2.COLOR_BGR2RGB)\n",
    "\n",
    "    if augment: \n",
    "        img = random_hflip(img)\n",
    "\n",
    "    img = cv2.resize(img, (image_size, image_size))\n",
    "\n",
    "    img = torch.tensor(img).permute((2, 0, 1)).float().div(255)\n",
    "    img = normalize_transform(img)\n",
    "\n",
    "    target = 1 if cls == \"FAKE\" else 0\n",
    "    return img, target"
   ]
  },
  {
   "cell_type": "markdown",
   "metadata": {},
   "source": [
    "Testing.\n",
    "\n",
    "The following cell should return a normalized PyTorch tensor of shape (3, 224, 224) and the target 1 (for fake).\n",
    "\n",
    "Note that this dataset has 155x155 images but our model needs at least 224x224, so we resize them."
   ]
  },
  {
   "cell_type": "code",
   "execution_count": 101,
   "metadata": {},
   "outputs": [
    {
     "data": {
      "text/plain": [
       "(torch.Size([3, 224, 224]), 1)"
      ]
     },
     "execution_count": 101,
     "metadata": {},
     "output_type": "execute_result"
    }
   ],
   "source": [
    "img, target = load_image_and_label(\"aabuyfvwrh.jpg\", \"FAKE\", crops_dir, 224, augment=True)\n",
    "img.shape, target"
   ]
  },
  {
   "cell_type": "markdown",
   "metadata": {},
   "source": [
    "To plot the image, we need to unnormalize it and also permute it from (3, 224, 224) to (224, 224, 3). "
   ]
  },
  {
   "cell_type": "code",
   "execution_count": 102,
   "metadata": {},
   "outputs": [
    {
     "data": {
      "text/plain": [
       "<matplotlib.image.AxesImage at 0x7f69a059ee90>"
      ]
     },
     "execution_count": 102,
     "metadata": {},
     "output_type": "execute_result"
    },
    {
     "data": {
      "image/png": "[encoded data removed]",
      "text/plain": [
       "<Figure size 432x288 with 1 Axes>"
      ]
     },
     "metadata": {
      "needs_background": "light"
     },
     "output_type": "display_data"
    }
   ],
   "source": [
    "plt.imshow(unnormalize_transform(img).permute((1, 2, 0)))"
   ]
  },
  {
   "cell_type": "markdown",
   "metadata": {},
   "source": [
    "To use the PyTorch data loader, we need to create a `Dataset` object.\n",
    "\n",
    "From [1](#Binary-Classification-Demo) - \"Because of the class imbalance (many more fakes than real videos), we're using a dataset that samples a given number of REAL faces and the same number of FAKE faces, so it's always 50-50.\"\n",
    "\n",
    "Note: Class imbalance has varying performance over different networks. We later train this Efficientnet on the entire face crop dataset, disregarding class imbalance."
   ]
  },
  {
   "cell_type": "code",
   "execution_count": 103,
   "metadata": {},
   "outputs": [],
   "source": [
    "from torch.utils.data import Dataset\n",
    "\n",
    "class VideoDataset(Dataset):\n",
    "    \"\"\"Face crops dataset.\n",
    "\n",
    "    Arguments:\n",
    "        crops_dir: base folder for face crops\n",
    "        df: Pandas DataFrame with metadata\n",
    "        split: if \"train\", applies data augmentation\n",
    "        image_size: resizes the image to a square of this size\n",
    "        sample_size: evenly samples this many videos from the REAL\n",
    "            and FAKE subfolders (None = use all videos)\n",
    "        seed: optional random seed for sampling\n",
    "    \"\"\"\n",
    "    def __init__(self, crops_dir, df, split, image_size, sample_size=None, seed=None):\n",
    "        self.crops_dir = crops_dir\n",
    "        self.split = split\n",
    "        self.image_size = image_size\n",
    "        \n",
    "        if sample_size is not None:\n",
    "            real_df = df[df[\"label\"] == \"REAL\"]\n",
    "            fake_df = df[df[\"label\"] == \"FAKE\"]\n",
    "            sample_size = np.min(np.array([sample_size, len(real_df), len(fake_df)]))\n",
    "            print(\"%s: sampling %d from %d real videos\" % (split, sample_size, len(real_df)))\n",
    "            print(\"%s: sampling %d from %d fake videos\" % (split, sample_size, len(fake_df)))\n",
    "            real_df = real_df.sample(sample_size, random_state=seed)\n",
    "            fake_df = fake_df.sample(sample_size, random_state=seed)\n",
    "            self.df = pd.concat([real_df, fake_df])\n",
    "        else:\n",
    "            self.df = df\n",
    "\n",
    "        num_real = len(self.df[self.df[\"label\"] == \"REAL\"])\n",
    "        num_fake = len(self.df[self.df[\"label\"] == \"FAKE\"])\n",
    "        print(\"%s dataset has %d real videos, %d fake videos\" % (split, num_real, num_fake))\n",
    "\n",
    "    def __getitem__(self, index):\n",
    "        row = self.df.iloc[index]\n",
    "        filename = row[\"videoname\"][:-4] + \".jpg\"\n",
    "        cls = row[\"label\"]\n",
    "        return load_image_and_label(filename, cls, self.crops_dir, \n",
    "                                    self.image_size, self.split == \"train\")\n",
    "    def __len__(self):\n",
    "        return len(self.df)"
   ]
  },
  {
   "cell_type": "markdown",
   "metadata": {},
   "source": [
    "Let's test that the dataset actually works..."
   ]
  },
  {
   "cell_type": "code",
   "execution_count": 104,
   "metadata": {},
   "outputs": [
    {
     "name": "stdout",
     "output_type": "stream",
     "text": [
      "val dataset has 16293 real videos, 79341 fake videos\n"
     ]
    }
   ],
   "source": [
    "dataset = VideoDataset(crops_dir, metadata_df, \"val\", image_size, seed=1234)"
   ]
  },
  {
   "cell_type": "code",
   "execution_count": 105,
   "metadata": {},
   "outputs": [
    {
     "data": {
      "text/plain": [
       "<matplotlib.image.AxesImage at 0x7f69a05bbb90>"
      ]
     },
     "execution_count": 105,
     "metadata": {},
     "output_type": "execute_result"
    },
    {
     "data": {
      "image/png": "[encoded data removed]",
      "text/plain": [
       "<Figure size 432x288 with 1 Axes>"
      ]
     },
     "metadata": {
      "needs_background": "light"
     },
     "output_type": "display_data"
    }
   ],
   "source": [
    "plt.imshow(unnormalize_transform(dataset[0][0]).permute(1, 2, 0))"
   ]
  },
  {
   "cell_type": "code",
   "execution_count": 106,
   "metadata": {},
   "outputs": [],
   "source": [
    "del dataset"
   ]
  },
  {
   "cell_type": "markdown",
   "metadata": {},
   "source": [
    "From [1](#Binary-Classification-Demo) - Split up the data into train / validation. There are many different ways to do this. For this kernel, we're going to just grab a percentage of the REAL faces as well as their corresponding FAKEs. This way, a real video and all the fakes that are derived from it will be either completely in the training set or completely in the validation set. \n",
    "\n",
    "(This is still not ideal because the same person may appear in many different videos. Ideally we want a person to be either in train or in val, but not in both. But it will do for now.)"
   ]
  },
  {
   "cell_type": "code",
   "execution_count": 107,
   "metadata": {},
   "outputs": [],
   "source": [
    "def make_splits(crops_dir, metadata_df, frac):\n",
    "    # Make a validation split. Sample a percentage of the real videos, \n",
    "    # and also grab the corresponding fake videos.\n",
    "    real_rows = metadata_df[metadata_df[\"label\"] == \"REAL\"]\n",
    "    real_df = real_rows.sample(frac=frac, random_state=666)\n",
    "    fake_df = metadata_df[metadata_df[\"original\"].isin(real_df[\"videoname\"])]\n",
    "    val_df = pd.concat([real_df, fake_df])\n",
    "\n",
    "    # The training split is the remaining videos.\n",
    "    train_df = metadata_df.loc[~metadata_df.index.isin(val_df.index)]\n",
    "\n",
    "    return train_df, val_df"
   ]
  },
  {
   "cell_type": "markdown",
   "metadata": {},
   "source": [
    "Sanity check:"
   ]
  },
  {
   "cell_type": "code",
   "execution_count": 108,
   "metadata": {},
   "outputs": [],
   "source": [
    "train_df, val_df = make_splits(crops_dir, metadata_df, frac=0.05)\n",
    "\n",
    "assert(len(train_df) + len(val_df) == len(metadata_df))\n",
    "assert(len(train_df[train_df[\"videoname\"].isin(val_df[\"videoname\"])]) == 0)\n",
    "\n",
    "del train_df, val_df"
   ]
  },
  {
   "cell_type": "markdown",
   "metadata": {},
   "source": [
    "Use all of the above building blocks to create `DataLoader` objects. Note that we use only a portion of the full amount of training data, for speed reasons. If you have more patience, increase the `sample_size`."
   ]
  },
  {
   "cell_type": "code",
   "execution_count": 109,
   "metadata": {},
   "outputs": [],
   "source": [
    "from torch.utils.data import DataLoader\n",
    "\n",
    "def create_data_loaders(crops_dir, metadata_df, image_size, batch_size, num_workers):\n",
    "    train_df, val_df = make_splits(crops_dir, metadata_df, frac=0.05)\n",
    "\n",
    "    train_dataset = VideoDataset(crops_dir, train_df, \"train\", image_size)\n",
    "    train_loader = DataLoader(train_dataset, batch_size=batch_size, shuffle=True, \n",
    "                              num_workers=num_workers, pin_memory=True)\n",
    "\n",
    "    val_dataset = VideoDataset(crops_dir, val_df, \"val\", image_size, seed=1234)\n",
    "    val_loader = DataLoader(val_dataset, batch_size=batch_size, shuffle=False, \n",
    "                            num_workers=num_workers, pin_memory=True)\n",
    "\n",
    "    return train_loader, val_loader"
   ]
  },
  {
   "cell_type": "code",
   "execution_count": 110,
   "metadata": {},
   "outputs": [
    {
     "name": "stdout",
     "output_type": "stream",
     "text": [
      "train dataset has 15478 real videos, 75449 fake videos\n",
      "val dataset has 815 real videos, 3892 fake videos\n"
     ]
    }
   ],
   "source": [
    "train_loader, val_loader = create_data_loaders(crops_dir, metadata_df, image_size, \n",
    "                                               batch_size, num_workers=2)"
   ]
  },
  {
   "cell_type": "markdown",
   "metadata": {},
   "source": [
    "And, as usual, a check that it works... The `train_loader` should give a different set of examples each time you run it (because `shuffle=True`), while the `val_loader` always returns the examples in the same order."
   ]
  },
  {
   "cell_type": "code",
   "execution_count": 111,
   "metadata": {},
   "outputs": [
    {
     "name": "stdout",
     "output_type": "stream",
     "text": [
      "tensor(1)\n"
     ]
    },
    {
     "data": {
      "image/png": "[encoded data removed]",
      "text/plain": [
       "<Figure size 432x288 with 1 Axes>"
      ]
     },
     "metadata": {
      "needs_background": "light"
     },
     "output_type": "display_data"
    }
   ],
   "source": [
    "X, y = next(iter(train_loader))\n",
    "plt.imshow(unnormalize_transform(X[0]).permute(1, 2, 0))\n",
    "print(y[0])"
   ]
  },
  {
   "cell_type": "code",
   "execution_count": 112,
   "metadata": {},
   "outputs": [
    {
     "name": "stdout",
     "output_type": "stream",
     "text": [
      "tensor(0)\n"
     ]
    },
    {
     "data": {
      "image/png": "[encoded data removed]",
      "text/plain": [
       "<Figure size 432x288 with 1 Axes>"
      ]
     },
     "metadata": {
      "needs_background": "light"
     },
     "output_type": "display_data"
    }
   ],
   "source": [
    "X, y = next(iter(val_loader))\n",
    "plt.imshow(unnormalize_transform(X[0]).permute(1, 2, 0))\n",
    "print(y[0])"
   ]
  },
  {
   "cell_type": "markdown",
   "metadata": {},
   "source": [
    "## Helper code for training"
   ]
  },
  {
   "cell_type": "markdown",
   "metadata": {},
   "source": [
    "Evaluation function for running the model on the validation set:"
   ]
  },
  {
   "cell_type": "code",
   "execution_count": 113,
   "metadata": {},
   "outputs": [],
   "source": [
    "def evaluate(net, data_loader, device, silent=False):\n",
    "    net.train(False)\n",
    "\n",
    "    bce_loss = 0\n",
    "    total_examples = 0\n",
    "\n",
    "    with tqdm(total=len(data_loader), desc=\"Evaluation\", leave=False, disable=silent) as pbar:\n",
    "        for batch_idx, data in enumerate(data_loader):\n",
    "            with torch.no_grad():\n",
    "                batch_size = data[0].shape[0]\n",
    "                x = data[0].to(device)\n",
    "                y_true = data[1].to(device).float()\n",
    "\n",
    "                y_pred = net(x)\n",
    "                y_pred = y_pred.squeeze()\n",
    "\n",
    "                bce_loss += F.binary_cross_entropy_with_logits(y_pred, y_true).item() * batch_size\n",
    "\n",
    "            total_examples += batch_size\n",
    "            pbar.update()\n",
    "\n",
    "    bce_loss /= total_examples\n",
    "\n",
    "    if silent:\n",
    "        return bce_loss\n",
    "    else:\n",
    "        print(\"BCE: %.4f\" % (bce_loss))"
   ]
  },
  {
   "cell_type": "markdown",
   "metadata": {},
   "source": [
    "## Training Loop"
   ]
  },
  {
   "cell_type": "code",
   "execution_count": 114,
   "metadata": {},
   "outputs": [],
   "source": [
    "def fit(epochs):\n",
    "    global history, iteration, epochs_done, lr\n",
    "\n",
    "    with tqdm(total=len(train_loader), leave=False) as pbar:\n",
    "        for epoch in range(epochs):\n",
    "            pbar.reset()\n",
    "            pbar.set_description(\"Epoch %d\" % (epochs_done + 1))\n",
    "            \n",
    "            bce_loss = 0\n",
    "            total_examples = 0\n",
    "\n",
    "            net.train(True)\n",
    "\n",
    "            for batch_idx, data in enumerate(train_loader):\n",
    "                batch_size = data[0].shape[0]\n",
    "                x = data[0].to(gpu)\n",
    "                y_true = data[1].to(gpu).float()\n",
    "                \n",
    "                optimizer.zero_grad()\n",
    "\n",
    "                y_pred = net(x)\n",
    "                y_pred = y_pred.squeeze()\n",
    "                \n",
    "                loss = F.binary_cross_entropy_with_logits(y_pred, y_true)\n",
    "                loss.backward()\n",
    "                optimizer.step()\n",
    "                \n",
    "                batch_bce = loss.item()\n",
    "                bce_loss += batch_bce * batch_size\n",
    "                history[\"train_bce\"].append(batch_bce)\n",
    "\n",
    "                total_examples += batch_size\n",
    "                iteration += 1\n",
    "                pbar.update()\n",
    "\n",
    "            bce_loss /= total_examples\n",
    "            epochs_done += 1\n",
    "\n",
    "            print(\"Epoch: %3d, train BCE: %.4f\" % (epochs_done, bce_loss))\n",
    "\n",
    "            val_bce_loss = evaluate(net, val_loader, device=gpu, silent=True)\n",
    "            history[\"val_bce\"].append(val_bce_loss)\n",
    "            \n",
    "            if tracking_active:\n",
    "                wandb.log({\"bce_loss\": bce_loss, \"epoc\": epoch, \"val_bce\": val_bce_loss})\n",
    "            \n",
    "            print(\"val BCE: %.4f\" % (val_bce_loss))\n",
    "\n",
    "            ## anneal the learning rate\n",
    "            lr = lr/10\n",
    "            set_lr(optimizer, lr)\n",
    "\n",
    "            print(\"\")"
   ]
  },
  {
   "cell_type": "markdown",
   "metadata": {},
   "source": [
    "## The model"
   ]
  },
  {
   "cell_type": "markdown",
   "metadata": {},
   "source": [
    "In this section we define our base model and transfer learn the model to the deepfake face crop dataset."
   ]
  },
  {
   "cell_type": "code",
   "execution_count": 115,
   "metadata": {},
   "outputs": [],
   "source": [
    "import torchvision"
   ]
  },
  {
   "cell_type": "markdown",
   "metadata": {},
   "source": [
    "Enable any of the following models and set them as the base model. In this notebook, we use Efficientnet b7, and it's implmentation in Pytorch from [here](https://github.com/lukemelas/EfficientNet-PyTorch#loading-pretrained-models)."
   ]
  },
  {
   "cell_type": "code",
   "execution_count": 36,
   "metadata": {
    "scrolled": true
   },
   "outputs": [],
   "source": [
    "# resnext50 = torchvision.models.resnext50_32x4d(pretrained=True)"
   ]
  },
  {
   "cell_type": "code",
   "execution_count": 37,
   "metadata": {
    "scrolled": true
   },
   "outputs": [],
   "source": [
    "# ressnext101 = torchvision.models.resnext101_32x8d(pretrained=True)"
   ]
  },
  {
   "cell_type": "code",
   "execution_count": 38,
   "metadata": {},
   "outputs": [],
   "source": [
    "#wideresnext101 = torchvision.models.wide_resnet101_2(pretrained=True)"
   ]
  },
  {
   "cell_type": "code",
   "execution_count": 135,
   "metadata": {},
   "outputs": [
    {
     "name": "stdout",
     "output_type": "stream",
     "text": [
      "Loaded pretrained weights for efficientnet-b7\n"
     ]
    }
   ],
   "source": [
    "## Pull in efficient net\n",
    "#https://github.com/lukemelas/EfficientNet-PyTorch\n",
    "# !pip install -q --upgrade efficientnet-pytorch\n",
    "## TODO: Clean this up so we can specify model and get pretrained model as `net`\n",
    "from efficientnet_pytorch import EfficientNet\n",
    "model = EfficientNet.from_pretrained('efficientnet-b7') "
   ]
  },
  {
   "cell_type": "code",
   "execution_count": 136,
   "metadata": {},
   "outputs": [],
   "source": [
    "model_dict = {\n",
    "#     'resnext50': resnext50,\n",
    "#     'resnext101': ressnext101\n",
    "}"
   ]
  },
  {
   "cell_type": "code",
   "execution_count": 137,
   "metadata": {},
   "outputs": [],
   "source": [
    "checkpoint = model"
   ]
  },
  {
   "cell_type": "code",
   "execution_count": 138,
   "metadata": {},
   "outputs": [],
   "source": [
    "def list_layers(net):\n",
    "    return [k for k,v in net.named_parameters() if v.requires_grad]"
   ]
  },
  {
   "cell_type": "markdown",
   "metadata": {},
   "source": [
    "Let's see the layers of the model we have picked. We can then define which layers we want to freeze to prevent gradient update for transfer learning."
   ]
  },
  {
   "cell_type": "code",
   "execution_count": 139,
   "metadata": {},
   "outputs": [
    {
     "data": {
      "text/plain": [
       "['_conv_stem.weight',\n",
       " '_bn0.weight',\n",
       " '_bn0.bias',\n",
       " '_blocks.0._depthwise_conv.weight',\n",
       " '_blocks.0._bn1.weight',\n",
       " '_blocks.0._bn1.bias',\n",
       " '_blocks.0._se_reduce.weight',\n",
       " '_blocks.0._se_reduce.bias',\n",
       " '_blocks.0._se_expand.weight',\n",
       " '_blocks.0._se_expand.bias',\n",
       " '_blocks.0._project_conv.weight',\n",
       " '_blocks.0._bn2.weight',\n",
       " '_blocks.0._bn2.bias',\n",
       " '_blocks.1._depthwise_conv.weight',\n",
       " '_blocks.1._bn1.weight',\n",
       " '_blocks.1._bn1.bias',\n",
       " '_blocks.1._se_reduce.weight',\n",
       " '_blocks.1._se_reduce.bias',\n",
       " '_blocks.1._se_expand.weight',\n",
       " '_blocks.1._se_expand.bias',\n",
       " '_blocks.1._project_conv.weight',\n",
       " '_blocks.1._bn2.weight',\n",
       " '_blocks.1._bn2.bias',\n",
       " '_blocks.2._depthwise_conv.weight',\n",
       " '_blocks.2._bn1.weight',\n",
       " '_blocks.2._bn1.bias',\n",
       " '_blocks.2._se_reduce.weight',\n",
       " '_blocks.2._se_reduce.bias',\n",
       " '_blocks.2._se_expand.weight',\n",
       " '_blocks.2._se_expand.bias',\n",
       " '_blocks.2._project_conv.weight',\n",
       " '_blocks.2._bn2.weight',\n",
       " '_blocks.2._bn2.bias',\n",
       " '_blocks.3._depthwise_conv.weight',\n",
       " '_blocks.3._bn1.weight',\n",
       " '_blocks.3._bn1.bias',\n",
       " '_blocks.3._se_reduce.weight',\n",
       " '_blocks.3._se_reduce.bias',\n",
       " '_blocks.3._se_expand.weight',\n",
       " '_blocks.3._se_expand.bias',\n",
       " '_blocks.3._project_conv.weight',\n",
       " '_blocks.3._bn2.weight',\n",
       " '_blocks.3._bn2.bias',\n",
       " '_blocks.4._expand_conv.weight',\n",
       " '_blocks.4._bn0.weight',\n",
       " '_blocks.4._bn0.bias',\n",
       " '_blocks.4._depthwise_conv.weight',\n",
       " '_blocks.4._bn1.weight',\n",
       " '_blocks.4._bn1.bias',\n",
       " '_blocks.4._se_reduce.weight',\n",
       " '_blocks.4._se_reduce.bias',\n",
       " '_blocks.4._se_expand.weight',\n",
       " '_blocks.4._se_expand.bias',\n",
       " '_blocks.4._project_conv.weight',\n",
       " '_blocks.4._bn2.weight',\n",
       " '_blocks.4._bn2.bias',\n",
       " '_blocks.5._expand_conv.weight',\n",
       " '_blocks.5._bn0.weight',\n",
       " '_blocks.5._bn0.bias',\n",
       " '_blocks.5._depthwise_conv.weight',\n",
       " '_blocks.5._bn1.weight',\n",
       " '_blocks.5._bn1.bias',\n",
       " '_blocks.5._se_reduce.weight',\n",
       " '_blocks.5._se_reduce.bias',\n",
       " '_blocks.5._se_expand.weight',\n",
       " '_blocks.5._se_expand.bias',\n",
       " '_blocks.5._project_conv.weight',\n",
       " '_blocks.5._bn2.weight',\n",
       " '_blocks.5._bn2.bias',\n",
       " '_blocks.6._expand_conv.weight',\n",
       " '_blocks.6._bn0.weight',\n",
       " '_blocks.6._bn0.bias',\n",
       " '_blocks.6._depthwise_conv.weight',\n",
       " '_blocks.6._bn1.weight',\n",
       " '_blocks.6._bn1.bias',\n",
       " '_blocks.6._se_reduce.weight',\n",
       " '_blocks.6._se_reduce.bias',\n",
       " '_blocks.6._se_expand.weight',\n",
       " '_blocks.6._se_expand.bias',\n",
       " '_blocks.6._project_conv.weight',\n",
       " '_blocks.6._bn2.weight',\n",
       " '_blocks.6._bn2.bias',\n",
       " '_blocks.7._expand_conv.weight',\n",
       " '_blocks.7._bn0.weight',\n",
       " '_blocks.7._bn0.bias',\n",
       " '_blocks.7._depthwise_conv.weight',\n",
       " '_blocks.7._bn1.weight',\n",
       " '_blocks.7._bn1.bias',\n",
       " '_blocks.7._se_reduce.weight',\n",
       " '_blocks.7._se_reduce.bias',\n",
       " '_blocks.7._se_expand.weight',\n",
       " '_blocks.7._se_expand.bias',\n",
       " '_blocks.7._project_conv.weight',\n",
       " '_blocks.7._bn2.weight',\n",
       " '_blocks.7._bn2.bias',\n",
       " '_blocks.8._expand_conv.weight',\n",
       " '_blocks.8._bn0.weight',\n",
       " '_blocks.8._bn0.bias',\n",
       " '_blocks.8._depthwise_conv.weight',\n",
       " '_blocks.8._bn1.weight',\n",
       " '_blocks.8._bn1.bias',\n",
       " '_blocks.8._se_reduce.weight',\n",
       " '_blocks.8._se_reduce.bias',\n",
       " '_blocks.8._se_expand.weight',\n",
       " '_blocks.8._se_expand.bias',\n",
       " '_blocks.8._project_conv.weight',\n",
       " '_blocks.8._bn2.weight',\n",
       " '_blocks.8._bn2.bias',\n",
       " '_blocks.9._expand_conv.weight',\n",
       " '_blocks.9._bn0.weight',\n",
       " '_blocks.9._bn0.bias',\n",
       " '_blocks.9._depthwise_conv.weight',\n",
       " '_blocks.9._bn1.weight',\n",
       " '_blocks.9._bn1.bias',\n",
       " '_blocks.9._se_reduce.weight',\n",
       " '_blocks.9._se_reduce.bias',\n",
       " '_blocks.9._se_expand.weight',\n",
       " '_blocks.9._se_expand.bias',\n",
       " '_blocks.9._project_conv.weight',\n",
       " '_blocks.9._bn2.weight',\n",
       " '_blocks.9._bn2.bias',\n",
       " '_blocks.10._expand_conv.weight',\n",
       " '_blocks.10._bn0.weight',\n",
       " '_blocks.10._bn0.bias',\n",
       " '_blocks.10._depthwise_conv.weight',\n",
       " '_blocks.10._bn1.weight',\n",
       " '_blocks.10._bn1.bias',\n",
       " '_blocks.10._se_reduce.weight',\n",
       " '_blocks.10._se_reduce.bias',\n",
       " '_blocks.10._se_expand.weight',\n",
       " '_blocks.10._se_expand.bias',\n",
       " '_blocks.10._project_conv.weight',\n",
       " '_blocks.10._bn2.weight',\n",
       " '_blocks.10._bn2.bias',\n",
       " '_blocks.11._expand_conv.weight',\n",
       " '_blocks.11._bn0.weight',\n",
       " '_blocks.11._bn0.bias',\n",
       " '_blocks.11._depthwise_conv.weight',\n",
       " '_blocks.11._bn1.weight',\n",
       " '_blocks.11._bn1.bias',\n",
       " '_blocks.11._se_reduce.weight',\n",
       " '_blocks.11._se_reduce.bias',\n",
       " '_blocks.11._se_expand.weight',\n",
       " '_blocks.11._se_expand.bias',\n",
       " '_blocks.11._project_conv.weight',\n",
       " '_blocks.11._bn2.weight',\n",
       " '_blocks.11._bn2.bias',\n",
       " '_blocks.12._expand_conv.weight',\n",
       " '_blocks.12._bn0.weight',\n",
       " '_blocks.12._bn0.bias',\n",
       " '_blocks.12._depthwise_conv.weight',\n",
       " '_blocks.12._bn1.weight',\n",
       " '_blocks.12._bn1.bias',\n",
       " '_blocks.12._se_reduce.weight',\n",
       " '_blocks.12._se_reduce.bias',\n",
       " '_blocks.12._se_expand.weight',\n",
       " '_blocks.12._se_expand.bias',\n",
       " '_blocks.12._project_conv.weight',\n",
       " '_blocks.12._bn2.weight',\n",
       " '_blocks.12._bn2.bias',\n",
       " '_blocks.13._expand_conv.weight',\n",
       " '_blocks.13._bn0.weight',\n",
       " '_blocks.13._bn0.bias',\n",
       " '_blocks.13._depthwise_conv.weight',\n",
       " '_blocks.13._bn1.weight',\n",
       " '_blocks.13._bn1.bias',\n",
       " '_blocks.13._se_reduce.weight',\n",
       " '_blocks.13._se_reduce.bias',\n",
       " '_blocks.13._se_expand.weight',\n",
       " '_blocks.13._se_expand.bias',\n",
       " '_blocks.13._project_conv.weight',\n",
       " '_blocks.13._bn2.weight',\n",
       " '_blocks.13._bn2.bias',\n",
       " '_blocks.14._expand_conv.weight',\n",
       " '_blocks.14._bn0.weight',\n",
       " '_blocks.14._bn0.bias',\n",
       " '_blocks.14._depthwise_conv.weight',\n",
       " '_blocks.14._bn1.weight',\n",
       " '_blocks.14._bn1.bias',\n",
       " '_blocks.14._se_reduce.weight',\n",
       " '_blocks.14._se_reduce.bias',\n",
       " '_blocks.14._se_expand.weight',\n",
       " '_blocks.14._se_expand.bias',\n",
       " '_blocks.14._project_conv.weight',\n",
       " '_blocks.14._bn2.weight',\n",
       " '_blocks.14._bn2.bias',\n",
       " '_blocks.15._expand_conv.weight',\n",
       " '_blocks.15._bn0.weight',\n",
       " '_blocks.15._bn0.bias',\n",
       " '_blocks.15._depthwise_conv.weight',\n",
       " '_blocks.15._bn1.weight',\n",
       " '_blocks.15._bn1.bias',\n",
       " '_blocks.15._se_reduce.weight',\n",
       " '_blocks.15._se_reduce.bias',\n",
       " '_blocks.15._se_expand.weight',\n",
       " '_blocks.15._se_expand.bias',\n",
       " '_blocks.15._project_conv.weight',\n",
       " '_blocks.15._bn2.weight',\n",
       " '_blocks.15._bn2.bias',\n",
       " '_blocks.16._expand_conv.weight',\n",
       " '_blocks.16._bn0.weight',\n",
       " '_blocks.16._bn0.bias',\n",
       " '_blocks.16._depthwise_conv.weight',\n",
       " '_blocks.16._bn1.weight',\n",
       " '_blocks.16._bn1.bias',\n",
       " '_blocks.16._se_reduce.weight',\n",
       " '_blocks.16._se_reduce.bias',\n",
       " '_blocks.16._se_expand.weight',\n",
       " '_blocks.16._se_expand.bias',\n",
       " '_blocks.16._project_conv.weight',\n",
       " '_blocks.16._bn2.weight',\n",
       " '_blocks.16._bn2.bias',\n",
       " '_blocks.17._expand_conv.weight',\n",
       " '_blocks.17._bn0.weight',\n",
       " '_blocks.17._bn0.bias',\n",
       " '_blocks.17._depthwise_conv.weight',\n",
       " '_blocks.17._bn1.weight',\n",
       " '_blocks.17._bn1.bias',\n",
       " '_blocks.17._se_reduce.weight',\n",
       " '_blocks.17._se_reduce.bias',\n",
       " '_blocks.17._se_expand.weight',\n",
       " '_blocks.17._se_expand.bias',\n",
       " '_blocks.17._project_conv.weight',\n",
       " '_blocks.17._bn2.weight',\n",
       " '_blocks.17._bn2.bias',\n",
       " '_blocks.18._expand_conv.weight',\n",
       " '_blocks.18._bn0.weight',\n",
       " '_blocks.18._bn0.bias',\n",
       " '_blocks.18._depthwise_conv.weight',\n",
       " '_blocks.18._bn1.weight',\n",
       " '_blocks.18._bn1.bias',\n",
       " '_blocks.18._se_reduce.weight',\n",
       " '_blocks.18._se_reduce.bias',\n",
       " '_blocks.18._se_expand.weight',\n",
       " '_blocks.18._se_expand.bias',\n",
       " '_blocks.18._project_conv.weight',\n",
       " '_blocks.18._bn2.weight',\n",
       " '_blocks.18._bn2.bias',\n",
       " '_blocks.19._expand_conv.weight',\n",
       " '_blocks.19._bn0.weight',\n",
       " '_blocks.19._bn0.bias',\n",
       " '_blocks.19._depthwise_conv.weight',\n",
       " '_blocks.19._bn1.weight',\n",
       " '_blocks.19._bn1.bias',\n",
       " '_blocks.19._se_reduce.weight',\n",
       " '_blocks.19._se_reduce.bias',\n",
       " '_blocks.19._se_expand.weight',\n",
       " '_blocks.19._se_expand.bias',\n",
       " '_blocks.19._project_conv.weight',\n",
       " '_blocks.19._bn2.weight',\n",
       " '_blocks.19._bn2.bias',\n",
       " '_blocks.20._expand_conv.weight',\n",
       " '_blocks.20._bn0.weight',\n",
       " '_blocks.20._bn0.bias',\n",
       " '_blocks.20._depthwise_conv.weight',\n",
       " '_blocks.20._bn1.weight',\n",
       " '_blocks.20._bn1.bias',\n",
       " '_blocks.20._se_reduce.weight',\n",
       " '_blocks.20._se_reduce.bias',\n",
       " '_blocks.20._se_expand.weight',\n",
       " '_blocks.20._se_expand.bias',\n",
       " '_blocks.20._project_conv.weight',\n",
       " '_blocks.20._bn2.weight',\n",
       " '_blocks.20._bn2.bias',\n",
       " '_blocks.21._expand_conv.weight',\n",
       " '_blocks.21._bn0.weight',\n",
       " '_blocks.21._bn0.bias',\n",
       " '_blocks.21._depthwise_conv.weight',\n",
       " '_blocks.21._bn1.weight',\n",
       " '_blocks.21._bn1.bias',\n",
       " '_blocks.21._se_reduce.weight',\n",
       " '_blocks.21._se_reduce.bias',\n",
       " '_blocks.21._se_expand.weight',\n",
       " '_blocks.21._se_expand.bias',\n",
       " '_blocks.21._project_conv.weight',\n",
       " '_blocks.21._bn2.weight',\n",
       " '_blocks.21._bn2.bias',\n",
       " '_blocks.22._expand_conv.weight',\n",
       " '_blocks.22._bn0.weight',\n",
       " '_blocks.22._bn0.bias',\n",
       " '_blocks.22._depthwise_conv.weight',\n",
       " '_blocks.22._bn1.weight',\n",
       " '_blocks.22._bn1.bias',\n",
       " '_blocks.22._se_reduce.weight',\n",
       " '_blocks.22._se_reduce.bias',\n",
       " '_blocks.22._se_expand.weight',\n",
       " '_blocks.22._se_expand.bias',\n",
       " '_blocks.22._project_conv.weight',\n",
       " '_blocks.22._bn2.weight',\n",
       " '_blocks.22._bn2.bias',\n",
       " '_blocks.23._expand_conv.weight',\n",
       " '_blocks.23._bn0.weight',\n",
       " '_blocks.23._bn0.bias',\n",
       " '_blocks.23._depthwise_conv.weight',\n",
       " '_blocks.23._bn1.weight',\n",
       " '_blocks.23._bn1.bias',\n",
       " '_blocks.23._se_reduce.weight',\n",
       " '_blocks.23._se_reduce.bias',\n",
       " '_blocks.23._se_expand.weight',\n",
       " '_blocks.23._se_expand.bias',\n",
       " '_blocks.23._project_conv.weight',\n",
       " '_blocks.23._bn2.weight',\n",
       " '_blocks.23._bn2.bias',\n",
       " '_blocks.24._expand_conv.weight',\n",
       " '_blocks.24._bn0.weight',\n",
       " '_blocks.24._bn0.bias',\n",
       " '_blocks.24._depthwise_conv.weight',\n",
       " '_blocks.24._bn1.weight',\n",
       " '_blocks.24._bn1.bias',\n",
       " '_blocks.24._se_reduce.weight',\n",
       " '_blocks.24._se_reduce.bias',\n",
       " '_blocks.24._se_expand.weight',\n",
       " '_blocks.24._se_expand.bias',\n",
       " '_blocks.24._project_conv.weight',\n",
       " '_blocks.24._bn2.weight',\n",
       " '_blocks.24._bn2.bias',\n",
       " '_blocks.25._expand_conv.weight',\n",
       " '_blocks.25._bn0.weight',\n",
       " '_blocks.25._bn0.bias',\n",
       " '_blocks.25._depthwise_conv.weight',\n",
       " '_blocks.25._bn1.weight',\n",
       " '_blocks.25._bn1.bias',\n",
       " '_blocks.25._se_reduce.weight',\n",
       " '_blocks.25._se_reduce.bias',\n",
       " '_blocks.25._se_expand.weight',\n",
       " '_blocks.25._se_expand.bias',\n",
       " '_blocks.25._project_conv.weight',\n",
       " '_blocks.25._bn2.weight',\n",
       " '_blocks.25._bn2.bias',\n",
       " '_blocks.26._expand_conv.weight',\n",
       " '_blocks.26._bn0.weight',\n",
       " '_blocks.26._bn0.bias',\n",
       " '_blocks.26._depthwise_conv.weight',\n",
       " '_blocks.26._bn1.weight',\n",
       " '_blocks.26._bn1.bias',\n",
       " '_blocks.26._se_reduce.weight',\n",
       " '_blocks.26._se_reduce.bias',\n",
       " '_blocks.26._se_expand.weight',\n",
       " '_blocks.26._se_expand.bias',\n",
       " '_blocks.26._project_conv.weight',\n",
       " '_blocks.26._bn2.weight',\n",
       " '_blocks.26._bn2.bias',\n",
       " '_blocks.27._expand_conv.weight',\n",
       " '_blocks.27._bn0.weight',\n",
       " '_blocks.27._bn0.bias',\n",
       " '_blocks.27._depthwise_conv.weight',\n",
       " '_blocks.27._bn1.weight',\n",
       " '_blocks.27._bn1.bias',\n",
       " '_blocks.27._se_reduce.weight',\n",
       " '_blocks.27._se_reduce.bias',\n",
       " '_blocks.27._se_expand.weight',\n",
       " '_blocks.27._se_expand.bias',\n",
       " '_blocks.27._project_conv.weight',\n",
       " '_blocks.27._bn2.weight',\n",
       " '_blocks.27._bn2.bias',\n",
       " '_blocks.28._expand_conv.weight',\n",
       " '_blocks.28._bn0.weight',\n",
       " '_blocks.28._bn0.bias',\n",
       " '_blocks.28._depthwise_conv.weight',\n",
       " '_blocks.28._bn1.weight',\n",
       " '_blocks.28._bn1.bias',\n",
       " '_blocks.28._se_reduce.weight',\n",
       " '_blocks.28._se_reduce.bias',\n",
       " '_blocks.28._se_expand.weight',\n",
       " '_blocks.28._se_expand.bias',\n",
       " '_blocks.28._project_conv.weight',\n",
       " '_blocks.28._bn2.weight',\n",
       " '_blocks.28._bn2.bias',\n",
       " '_blocks.29._expand_conv.weight',\n",
       " '_blocks.29._bn0.weight',\n",
       " '_blocks.29._bn0.bias',\n",
       " '_blocks.29._depthwise_conv.weight',\n",
       " '_blocks.29._bn1.weight',\n",
       " '_blocks.29._bn1.bias',\n",
       " '_blocks.29._se_reduce.weight',\n",
       " '_blocks.29._se_reduce.bias',\n",
       " '_blocks.29._se_expand.weight',\n",
       " '_blocks.29._se_expand.bias',\n",
       " '_blocks.29._project_conv.weight',\n",
       " '_blocks.29._bn2.weight',\n",
       " '_blocks.29._bn2.bias',\n",
       " '_blocks.30._expand_conv.weight',\n",
       " '_blocks.30._bn0.weight',\n",
       " '_blocks.30._bn0.bias',\n",
       " '_blocks.30._depthwise_conv.weight',\n",
       " '_blocks.30._bn1.weight',\n",
       " '_blocks.30._bn1.bias',\n",
       " '_blocks.30._se_reduce.weight',\n",
       " '_blocks.30._se_reduce.bias',\n",
       " '_blocks.30._se_expand.weight',\n",
       " '_blocks.30._se_expand.bias',\n",
       " '_blocks.30._project_conv.weight',\n",
       " '_blocks.30._bn2.weight',\n",
       " '_blocks.30._bn2.bias',\n",
       " '_blocks.31._expand_conv.weight',\n",
       " '_blocks.31._bn0.weight',\n",
       " '_blocks.31._bn0.bias',\n",
       " '_blocks.31._depthwise_conv.weight',\n",
       " '_blocks.31._bn1.weight',\n",
       " '_blocks.31._bn1.bias',\n",
       " '_blocks.31._se_reduce.weight',\n",
       " '_blocks.31._se_reduce.bias',\n",
       " '_blocks.31._se_expand.weight',\n",
       " '_blocks.31._se_expand.bias',\n",
       " '_blocks.31._project_conv.weight',\n",
       " '_blocks.31._bn2.weight',\n",
       " '_blocks.31._bn2.bias',\n",
       " '_blocks.32._expand_conv.weight',\n",
       " '_blocks.32._bn0.weight',\n",
       " '_blocks.32._bn0.bias',\n",
       " '_blocks.32._depthwise_conv.weight',\n",
       " '_blocks.32._bn1.weight',\n",
       " '_blocks.32._bn1.bias',\n",
       " '_blocks.32._se_reduce.weight',\n",
       " '_blocks.32._se_reduce.bias',\n",
       " '_blocks.32._se_expand.weight',\n",
       " '_blocks.32._se_expand.bias',\n",
       " '_blocks.32._project_conv.weight',\n",
       " '_blocks.32._bn2.weight',\n",
       " '_blocks.32._bn2.bias',\n",
       " '_blocks.33._expand_conv.weight',\n",
       " '_blocks.33._bn0.weight',\n",
       " '_blocks.33._bn0.bias',\n",
       " '_blocks.33._depthwise_conv.weight',\n",
       " '_blocks.33._bn1.weight',\n",
       " '_blocks.33._bn1.bias',\n",
       " '_blocks.33._se_reduce.weight',\n",
       " '_blocks.33._se_reduce.bias',\n",
       " '_blocks.33._se_expand.weight',\n",
       " '_blocks.33._se_expand.bias',\n",
       " '_blocks.33._project_conv.weight',\n",
       " '_blocks.33._bn2.weight',\n",
       " '_blocks.33._bn2.bias',\n",
       " '_blocks.34._expand_conv.weight',\n",
       " '_blocks.34._bn0.weight',\n",
       " '_blocks.34._bn0.bias',\n",
       " '_blocks.34._depthwise_conv.weight',\n",
       " '_blocks.34._bn1.weight',\n",
       " '_blocks.34._bn1.bias',\n",
       " '_blocks.34._se_reduce.weight',\n",
       " '_blocks.34._se_reduce.bias',\n",
       " '_blocks.34._se_expand.weight',\n",
       " '_blocks.34._se_expand.bias',\n",
       " '_blocks.34._project_conv.weight',\n",
       " '_blocks.34._bn2.weight',\n",
       " '_blocks.34._bn2.bias',\n",
       " '_blocks.35._expand_conv.weight',\n",
       " '_blocks.35._bn0.weight',\n",
       " '_blocks.35._bn0.bias',\n",
       " '_blocks.35._depthwise_conv.weight',\n",
       " '_blocks.35._bn1.weight',\n",
       " '_blocks.35._bn1.bias',\n",
       " '_blocks.35._se_reduce.weight',\n",
       " '_blocks.35._se_reduce.bias',\n",
       " '_blocks.35._se_expand.weight',\n",
       " '_blocks.35._se_expand.bias',\n",
       " '_blocks.35._project_conv.weight',\n",
       " '_blocks.35._bn2.weight',\n",
       " '_blocks.35._bn2.bias',\n",
       " '_blocks.36._expand_conv.weight',\n",
       " '_blocks.36._bn0.weight',\n",
       " '_blocks.36._bn0.bias',\n",
       " '_blocks.36._depthwise_conv.weight',\n",
       " '_blocks.36._bn1.weight',\n",
       " '_blocks.36._bn1.bias',\n",
       " '_blocks.36._se_reduce.weight',\n",
       " '_blocks.36._se_reduce.bias',\n",
       " '_blocks.36._se_expand.weight',\n",
       " '_blocks.36._se_expand.bias',\n",
       " '_blocks.36._project_conv.weight',\n",
       " '_blocks.36._bn2.weight',\n",
       " '_blocks.36._bn2.bias',\n",
       " '_blocks.37._expand_conv.weight',\n",
       " '_blocks.37._bn0.weight',\n",
       " '_blocks.37._bn0.bias',\n",
       " '_blocks.37._depthwise_conv.weight',\n",
       " '_blocks.37._bn1.weight',\n",
       " '_blocks.37._bn1.bias',\n",
       " '_blocks.37._se_reduce.weight',\n",
       " '_blocks.37._se_reduce.bias',\n",
       " '_blocks.37._se_expand.weight',\n",
       " '_blocks.37._se_expand.bias',\n",
       " '_blocks.37._project_conv.weight',\n",
       " '_blocks.37._bn2.weight',\n",
       " '_blocks.37._bn2.bias',\n",
       " '_blocks.38._expand_conv.weight',\n",
       " '_blocks.38._bn0.weight',\n",
       " '_blocks.38._bn0.bias',\n",
       " '_blocks.38._depthwise_conv.weight',\n",
       " '_blocks.38._bn1.weight',\n",
       " '_blocks.38._bn1.bias',\n",
       " '_blocks.38._se_reduce.weight',\n",
       " '_blocks.38._se_reduce.bias',\n",
       " '_blocks.38._se_expand.weight',\n",
       " '_blocks.38._se_expand.bias',\n",
       " '_blocks.38._project_conv.weight',\n",
       " '_blocks.38._bn2.weight',\n",
       " '_blocks.38._bn2.bias',\n",
       " '_blocks.39._expand_conv.weight',\n",
       " '_blocks.39._bn0.weight',\n",
       " '_blocks.39._bn0.bias',\n",
       " '_blocks.39._depthwise_conv.weight',\n",
       " '_blocks.39._bn1.weight',\n",
       " '_blocks.39._bn1.bias',\n",
       " '_blocks.39._se_reduce.weight',\n",
       " '_blocks.39._se_reduce.bias',\n",
       " '_blocks.39._se_expand.weight',\n",
       " '_blocks.39._se_expand.bias',\n",
       " '_blocks.39._project_conv.weight',\n",
       " '_blocks.39._bn2.weight',\n",
       " '_blocks.39._bn2.bias',\n",
       " '_blocks.40._expand_conv.weight',\n",
       " '_blocks.40._bn0.weight',\n",
       " '_blocks.40._bn0.bias',\n",
       " '_blocks.40._depthwise_conv.weight',\n",
       " '_blocks.40._bn1.weight',\n",
       " '_blocks.40._bn1.bias',\n",
       " '_blocks.40._se_reduce.weight',\n",
       " '_blocks.40._se_reduce.bias',\n",
       " '_blocks.40._se_expand.weight',\n",
       " '_blocks.40._se_expand.bias',\n",
       " '_blocks.40._project_conv.weight',\n",
       " '_blocks.40._bn2.weight',\n",
       " '_blocks.40._bn2.bias',\n",
       " '_blocks.41._expand_conv.weight',\n",
       " '_blocks.41._bn0.weight',\n",
       " '_blocks.41._bn0.bias',\n",
       " '_blocks.41._depthwise_conv.weight',\n",
       " '_blocks.41._bn1.weight',\n",
       " '_blocks.41._bn1.bias',\n",
       " '_blocks.41._se_reduce.weight',\n",
       " '_blocks.41._se_reduce.bias',\n",
       " '_blocks.41._se_expand.weight',\n",
       " '_blocks.41._se_expand.bias',\n",
       " '_blocks.41._project_conv.weight',\n",
       " '_blocks.41._bn2.weight',\n",
       " '_blocks.41._bn2.bias',\n",
       " '_blocks.42._expand_conv.weight',\n",
       " '_blocks.42._bn0.weight',\n",
       " '_blocks.42._bn0.bias',\n",
       " '_blocks.42._depthwise_conv.weight',\n",
       " '_blocks.42._bn1.weight',\n",
       " '_blocks.42._bn1.bias',\n",
       " '_blocks.42._se_reduce.weight',\n",
       " '_blocks.42._se_reduce.bias',\n",
       " '_blocks.42._se_expand.weight',\n",
       " '_blocks.42._se_expand.bias',\n",
       " '_blocks.42._project_conv.weight',\n",
       " '_blocks.42._bn2.weight',\n",
       " '_blocks.42._bn2.bias',\n",
       " '_blocks.43._expand_conv.weight',\n",
       " '_blocks.43._bn0.weight',\n",
       " '_blocks.43._bn0.bias',\n",
       " '_blocks.43._depthwise_conv.weight',\n",
       " '_blocks.43._bn1.weight',\n",
       " '_blocks.43._bn1.bias',\n",
       " '_blocks.43._se_reduce.weight',\n",
       " '_blocks.43._se_reduce.bias',\n",
       " '_blocks.43._se_expand.weight',\n",
       " '_blocks.43._se_expand.bias',\n",
       " '_blocks.43._project_conv.weight',\n",
       " '_blocks.43._bn2.weight',\n",
       " '_blocks.43._bn2.bias',\n",
       " '_blocks.44._expand_conv.weight',\n",
       " '_blocks.44._bn0.weight',\n",
       " '_blocks.44._bn0.bias',\n",
       " '_blocks.44._depthwise_conv.weight',\n",
       " '_blocks.44._bn1.weight',\n",
       " '_blocks.44._bn1.bias',\n",
       " '_blocks.44._se_reduce.weight',\n",
       " '_blocks.44._se_reduce.bias',\n",
       " '_blocks.44._se_expand.weight',\n",
       " '_blocks.44._se_expand.bias',\n",
       " '_blocks.44._project_conv.weight',\n",
       " '_blocks.44._bn2.weight',\n",
       " '_blocks.44._bn2.bias',\n",
       " '_blocks.45._expand_conv.weight',\n",
       " '_blocks.45._bn0.weight',\n",
       " '_blocks.45._bn0.bias',\n",
       " '_blocks.45._depthwise_conv.weight',\n",
       " '_blocks.45._bn1.weight',\n",
       " '_blocks.45._bn1.bias',\n",
       " '_blocks.45._se_reduce.weight',\n",
       " '_blocks.45._se_reduce.bias',\n",
       " '_blocks.45._se_expand.weight',\n",
       " '_blocks.45._se_expand.bias',\n",
       " '_blocks.45._project_conv.weight',\n",
       " '_blocks.45._bn2.weight',\n",
       " '_blocks.45._bn2.bias',\n",
       " '_blocks.46._expand_conv.weight',\n",
       " '_blocks.46._bn0.weight',\n",
       " '_blocks.46._bn0.bias',\n",
       " '_blocks.46._depthwise_conv.weight',\n",
       " '_blocks.46._bn1.weight',\n",
       " '_blocks.46._bn1.bias',\n",
       " '_blocks.46._se_reduce.weight',\n",
       " '_blocks.46._se_reduce.bias',\n",
       " '_blocks.46._se_expand.weight',\n",
       " '_blocks.46._se_expand.bias',\n",
       " '_blocks.46._project_conv.weight',\n",
       " '_blocks.46._bn2.weight',\n",
       " '_blocks.46._bn2.bias',\n",
       " '_blocks.47._expand_conv.weight',\n",
       " '_blocks.47._bn0.weight',\n",
       " '_blocks.47._bn0.bias',\n",
       " '_blocks.47._depthwise_conv.weight',\n",
       " '_blocks.47._bn1.weight',\n",
       " '_blocks.47._bn1.bias',\n",
       " '_blocks.47._se_reduce.weight',\n",
       " '_blocks.47._se_reduce.bias',\n",
       " '_blocks.47._se_expand.weight',\n",
       " '_blocks.47._se_expand.bias',\n",
       " '_blocks.47._project_conv.weight',\n",
       " '_blocks.47._bn2.weight',\n",
       " '_blocks.47._bn2.bias',\n",
       " '_blocks.48._expand_conv.weight',\n",
       " '_blocks.48._bn0.weight',\n",
       " '_blocks.48._bn0.bias',\n",
       " '_blocks.48._depthwise_conv.weight',\n",
       " '_blocks.48._bn1.weight',\n",
       " '_blocks.48._bn1.bias',\n",
       " '_blocks.48._se_reduce.weight',\n",
       " '_blocks.48._se_reduce.bias',\n",
       " '_blocks.48._se_expand.weight',\n",
       " '_blocks.48._se_expand.bias',\n",
       " '_blocks.48._project_conv.weight',\n",
       " '_blocks.48._bn2.weight',\n",
       " '_blocks.48._bn2.bias',\n",
       " '_blocks.49._expand_conv.weight',\n",
       " '_blocks.49._bn0.weight',\n",
       " '_blocks.49._bn0.bias',\n",
       " '_blocks.49._depthwise_conv.weight',\n",
       " '_blocks.49._bn1.weight',\n",
       " '_blocks.49._bn1.bias',\n",
       " '_blocks.49._se_reduce.weight',\n",
       " '_blocks.49._se_reduce.bias',\n",
       " '_blocks.49._se_expand.weight',\n",
       " '_blocks.49._se_expand.bias',\n",
       " '_blocks.49._project_conv.weight',\n",
       " '_blocks.49._bn2.weight',\n",
       " '_blocks.49._bn2.bias',\n",
       " '_blocks.50._expand_conv.weight',\n",
       " '_blocks.50._bn0.weight',\n",
       " '_blocks.50._bn0.bias',\n",
       " '_blocks.50._depthwise_conv.weight',\n",
       " '_blocks.50._bn1.weight',\n",
       " '_blocks.50._bn1.bias',\n",
       " '_blocks.50._se_reduce.weight',\n",
       " '_blocks.50._se_reduce.bias',\n",
       " '_blocks.50._se_expand.weight',\n",
       " '_blocks.50._se_expand.bias',\n",
       " '_blocks.50._project_conv.weight',\n",
       " '_blocks.50._bn2.weight',\n",
       " '_blocks.50._bn2.bias',\n",
       " '_blocks.51._expand_conv.weight',\n",
       " '_blocks.51._bn0.weight',\n",
       " '_blocks.51._bn0.bias',\n",
       " '_blocks.51._depthwise_conv.weight',\n",
       " '_blocks.51._bn1.weight',\n",
       " '_blocks.51._bn1.bias',\n",
       " '_blocks.51._se_reduce.weight',\n",
       " '_blocks.51._se_reduce.bias',\n",
       " '_blocks.51._se_expand.weight',\n",
       " '_blocks.51._se_expand.bias',\n",
       " '_blocks.51._project_conv.weight',\n",
       " '_blocks.51._bn2.weight',\n",
       " '_blocks.51._bn2.bias',\n",
       " '_blocks.52._expand_conv.weight',\n",
       " '_blocks.52._bn0.weight',\n",
       " '_blocks.52._bn0.bias',\n",
       " '_blocks.52._depthwise_conv.weight',\n",
       " '_blocks.52._bn1.weight',\n",
       " '_blocks.52._bn1.bias',\n",
       " '_blocks.52._se_reduce.weight',\n",
       " '_blocks.52._se_reduce.bias',\n",
       " '_blocks.52._se_expand.weight',\n",
       " '_blocks.52._se_expand.bias',\n",
       " '_blocks.52._project_conv.weight',\n",
       " '_blocks.52._bn2.weight',\n",
       " '_blocks.52._bn2.bias',\n",
       " '_blocks.53._expand_conv.weight',\n",
       " '_blocks.53._bn0.weight',\n",
       " '_blocks.53._bn0.bias',\n",
       " '_blocks.53._depthwise_conv.weight',\n",
       " '_blocks.53._bn1.weight',\n",
       " '_blocks.53._bn1.bias',\n",
       " '_blocks.53._se_reduce.weight',\n",
       " '_blocks.53._se_reduce.bias',\n",
       " '_blocks.53._se_expand.weight',\n",
       " '_blocks.53._se_expand.bias',\n",
       " '_blocks.53._project_conv.weight',\n",
       " '_blocks.53._bn2.weight',\n",
       " '_blocks.53._bn2.bias',\n",
       " '_blocks.54._expand_conv.weight',\n",
       " '_blocks.54._bn0.weight',\n",
       " '_blocks.54._bn0.bias',\n",
       " '_blocks.54._depthwise_conv.weight',\n",
       " '_blocks.54._bn1.weight',\n",
       " '_blocks.54._bn1.bias',\n",
       " '_blocks.54._se_reduce.weight',\n",
       " '_blocks.54._se_reduce.bias',\n",
       " '_blocks.54._se_expand.weight',\n",
       " '_blocks.54._se_expand.bias',\n",
       " '_blocks.54._project_conv.weight',\n",
       " '_blocks.54._bn2.weight',\n",
       " '_blocks.54._bn2.bias',\n",
       " '_conv_head.weight',\n",
       " '_bn1.weight',\n",
       " '_bn1.bias',\n",
       " '_fc.weight',\n",
       " '_fc.bias']"
      ]
     },
     "execution_count": 139,
     "metadata": {},
     "output_type": "execute_result"
    }
   ],
   "source": [
    "list_layers(checkpoint)"
   ]
  },
  {
   "cell_type": "code",
   "execution_count": 140,
   "metadata": {},
   "outputs": [],
   "source": [
    "## Transfer learn\n",
    "num_features = checkpoint._fc.in_features\n",
    "\n",
    "checkpoint._fc = nn.Linear(num_features, 1) ## Binary classifier"
   ]
  },
  {
   "cell_type": "code",
   "execution_count": 141,
   "metadata": {},
   "outputs": [],
   "source": [
    "# import torchvision.models as models\n",
    "# ## Note the below class only works or ResNet based models.\n",
    "\n",
    "# class DeepMcDeepFace(models.resnet.ResNet):\n",
    "#     def __init__(self, training=True):\n",
    "#         super(DeepMcDeepFace, self).__init__(\n",
    "#             block=models.resnet.Bottleneck,\n",
    "#             layers=[3, 4, 6, 3], \n",
    "#                                         groups=32, \n",
    "#                                         width_per_group=4)\n",
    "\n",
    "#         self.load_state_dict(checkpoint)\n",
    "\n",
    "#         # Override the existing FC layer with a new one.\n",
    "#         self.fc = nn.Linear(2048, 1)"
   ]
  },
  {
   "cell_type": "code",
   "execution_count": 142,
   "metadata": {},
   "outputs": [],
   "source": [
    "# Enable this if working with a single GPU\n",
    "# net = checkpoint.to(gpu)"
   ]
  },
  {
   "cell_type": "code",
   "execution_count": 143,
   "metadata": {},
   "outputs": [],
   "source": [
    "## Wrap if multi GPU\n",
    "## Comment out if working with a single GPU\n",
    "net = nn.DataParallel(checkpoint).to(gpu)"
   ]
  },
  {
   "cell_type": "code",
   "execution_count": 145,
   "metadata": {},
   "outputs": [
    {
     "data": {
      "text/plain": [
       "['module._conv_stem.weight',\n",
       " 'module._bn0.weight',\n",
       " 'module._bn0.bias',\n",
       " 'module._blocks.0._depthwise_conv.weight',\n",
       " 'module._blocks.0._bn1.weight',\n",
       " 'module._blocks.0._bn1.bias',\n",
       " 'module._blocks.0._se_reduce.weight',\n",
       " 'module._blocks.0._se_reduce.bias',\n",
       " 'module._blocks.0._se_expand.weight',\n",
       " 'module._blocks.0._se_expand.bias',\n",
       " 'module._blocks.0._project_conv.weight',\n",
       " 'module._blocks.0._bn2.weight',\n",
       " 'module._blocks.0._bn2.bias',\n",
       " 'module._blocks.1._depthwise_conv.weight',\n",
       " 'module._blocks.1._bn1.weight',\n",
       " 'module._blocks.1._bn1.bias',\n",
       " 'module._blocks.1._se_reduce.weight',\n",
       " 'module._blocks.1._se_reduce.bias',\n",
       " 'module._blocks.1._se_expand.weight',\n",
       " 'module._blocks.1._se_expand.bias',\n",
       " 'module._blocks.1._project_conv.weight',\n",
       " 'module._blocks.1._bn2.weight',\n",
       " 'module._blocks.1._bn2.bias',\n",
       " 'module._blocks.2._depthwise_conv.weight',\n",
       " 'module._blocks.2._bn1.weight',\n",
       " 'module._blocks.2._bn1.bias',\n",
       " 'module._blocks.2._se_reduce.weight',\n",
       " 'module._blocks.2._se_reduce.bias',\n",
       " 'module._blocks.2._se_expand.weight',\n",
       " 'module._blocks.2._se_expand.bias',\n",
       " 'module._blocks.2._project_conv.weight',\n",
       " 'module._blocks.2._bn2.weight',\n",
       " 'module._blocks.2._bn2.bias',\n",
       " 'module._blocks.3._depthwise_conv.weight',\n",
       " 'module._blocks.3._bn1.weight',\n",
       " 'module._blocks.3._bn1.bias',\n",
       " 'module._blocks.3._se_reduce.weight',\n",
       " 'module._blocks.3._se_reduce.bias',\n",
       " 'module._blocks.3._se_expand.weight',\n",
       " 'module._blocks.3._se_expand.bias',\n",
       " 'module._blocks.3._project_conv.weight',\n",
       " 'module._blocks.3._bn2.weight',\n",
       " 'module._blocks.3._bn2.bias',\n",
       " 'module._blocks.4._expand_conv.weight',\n",
       " 'module._blocks.4._bn0.weight',\n",
       " 'module._blocks.4._bn0.bias',\n",
       " 'module._blocks.4._depthwise_conv.weight',\n",
       " 'module._blocks.4._bn1.weight',\n",
       " 'module._blocks.4._bn1.bias',\n",
       " 'module._blocks.4._se_reduce.weight',\n",
       " 'module._blocks.4._se_reduce.bias',\n",
       " 'module._blocks.4._se_expand.weight',\n",
       " 'module._blocks.4._se_expand.bias',\n",
       " 'module._blocks.4._project_conv.weight',\n",
       " 'module._blocks.4._bn2.weight',\n",
       " 'module._blocks.4._bn2.bias',\n",
       " 'module._blocks.5._expand_conv.weight',\n",
       " 'module._blocks.5._bn0.weight',\n",
       " 'module._blocks.5._bn0.bias',\n",
       " 'module._blocks.5._depthwise_conv.weight',\n",
       " 'module._blocks.5._bn1.weight',\n",
       " 'module._blocks.5._bn1.bias',\n",
       " 'module._blocks.5._se_reduce.weight',\n",
       " 'module._blocks.5._se_reduce.bias',\n",
       " 'module._blocks.5._se_expand.weight',\n",
       " 'module._blocks.5._se_expand.bias',\n",
       " 'module._blocks.5._project_conv.weight',\n",
       " 'module._blocks.5._bn2.weight',\n",
       " 'module._blocks.5._bn2.bias',\n",
       " 'module._blocks.6._expand_conv.weight',\n",
       " 'module._blocks.6._bn0.weight',\n",
       " 'module._blocks.6._bn0.bias',\n",
       " 'module._blocks.6._depthwise_conv.weight',\n",
       " 'module._blocks.6._bn1.weight',\n",
       " 'module._blocks.6._bn1.bias',\n",
       " 'module._blocks.6._se_reduce.weight',\n",
       " 'module._blocks.6._se_reduce.bias',\n",
       " 'module._blocks.6._se_expand.weight',\n",
       " 'module._blocks.6._se_expand.bias',\n",
       " 'module._blocks.6._project_conv.weight',\n",
       " 'module._blocks.6._bn2.weight',\n",
       " 'module._blocks.6._bn2.bias',\n",
       " 'module._blocks.7._expand_conv.weight',\n",
       " 'module._blocks.7._bn0.weight',\n",
       " 'module._blocks.7._bn0.bias',\n",
       " 'module._blocks.7._depthwise_conv.weight',\n",
       " 'module._blocks.7._bn1.weight',\n",
       " 'module._blocks.7._bn1.bias',\n",
       " 'module._blocks.7._se_reduce.weight',\n",
       " 'module._blocks.7._se_reduce.bias',\n",
       " 'module._blocks.7._se_expand.weight',\n",
       " 'module._blocks.7._se_expand.bias',\n",
       " 'module._blocks.7._project_conv.weight',\n",
       " 'module._blocks.7._bn2.weight',\n",
       " 'module._blocks.7._bn2.bias',\n",
       " 'module._blocks.8._expand_conv.weight',\n",
       " 'module._blocks.8._bn0.weight',\n",
       " 'module._blocks.8._bn0.bias',\n",
       " 'module._blocks.8._depthwise_conv.weight',\n",
       " 'module._blocks.8._bn1.weight',\n",
       " 'module._blocks.8._bn1.bias',\n",
       " 'module._blocks.8._se_reduce.weight',\n",
       " 'module._blocks.8._se_reduce.bias',\n",
       " 'module._blocks.8._se_expand.weight',\n",
       " 'module._blocks.8._se_expand.bias',\n",
       " 'module._blocks.8._project_conv.weight',\n",
       " 'module._blocks.8._bn2.weight',\n",
       " 'module._blocks.8._bn2.bias',\n",
       " 'module._blocks.9._expand_conv.weight',\n",
       " 'module._blocks.9._bn0.weight',\n",
       " 'module._blocks.9._bn0.bias',\n",
       " 'module._blocks.9._depthwise_conv.weight',\n",
       " 'module._blocks.9._bn1.weight',\n",
       " 'module._blocks.9._bn1.bias',\n",
       " 'module._blocks.9._se_reduce.weight',\n",
       " 'module._blocks.9._se_reduce.bias',\n",
       " 'module._blocks.9._se_expand.weight',\n",
       " 'module._blocks.9._se_expand.bias',\n",
       " 'module._blocks.9._project_conv.weight',\n",
       " 'module._blocks.9._bn2.weight',\n",
       " 'module._blocks.9._bn2.bias',\n",
       " 'module._blocks.10._expand_conv.weight',\n",
       " 'module._blocks.10._bn0.weight',\n",
       " 'module._blocks.10._bn0.bias',\n",
       " 'module._blocks.10._depthwise_conv.weight',\n",
       " 'module._blocks.10._bn1.weight',\n",
       " 'module._blocks.10._bn1.bias',\n",
       " 'module._blocks.10._se_reduce.weight',\n",
       " 'module._blocks.10._se_reduce.bias',\n",
       " 'module._blocks.10._se_expand.weight',\n",
       " 'module._blocks.10._se_expand.bias',\n",
       " 'module._blocks.10._project_conv.weight',\n",
       " 'module._blocks.10._bn2.weight',\n",
       " 'module._blocks.10._bn2.bias',\n",
       " 'module._blocks.11._expand_conv.weight',\n",
       " 'module._blocks.11._bn0.weight',\n",
       " 'module._blocks.11._bn0.bias',\n",
       " 'module._blocks.11._depthwise_conv.weight',\n",
       " 'module._blocks.11._bn1.weight',\n",
       " 'module._blocks.11._bn1.bias',\n",
       " 'module._blocks.11._se_reduce.weight',\n",
       " 'module._blocks.11._se_reduce.bias',\n",
       " 'module._blocks.11._se_expand.weight',\n",
       " 'module._blocks.11._se_expand.bias',\n",
       " 'module._blocks.11._project_conv.weight',\n",
       " 'module._blocks.11._bn2.weight',\n",
       " 'module._blocks.11._bn2.bias',\n",
       " 'module._blocks.12._expand_conv.weight',\n",
       " 'module._blocks.12._bn0.weight',\n",
       " 'module._blocks.12._bn0.bias',\n",
       " 'module._blocks.12._depthwise_conv.weight',\n",
       " 'module._blocks.12._bn1.weight',\n",
       " 'module._blocks.12._bn1.bias',\n",
       " 'module._blocks.12._se_reduce.weight',\n",
       " 'module._blocks.12._se_reduce.bias',\n",
       " 'module._blocks.12._se_expand.weight',\n",
       " 'module._blocks.12._se_expand.bias',\n",
       " 'module._blocks.12._project_conv.weight',\n",
       " 'module._blocks.12._bn2.weight',\n",
       " 'module._blocks.12._bn2.bias',\n",
       " 'module._blocks.13._expand_conv.weight',\n",
       " 'module._blocks.13._bn0.weight',\n",
       " 'module._blocks.13._bn0.bias',\n",
       " 'module._blocks.13._depthwise_conv.weight',\n",
       " 'module._blocks.13._bn1.weight',\n",
       " 'module._blocks.13._bn1.bias',\n",
       " 'module._blocks.13._se_reduce.weight',\n",
       " 'module._blocks.13._se_reduce.bias',\n",
       " 'module._blocks.13._se_expand.weight',\n",
       " 'module._blocks.13._se_expand.bias',\n",
       " 'module._blocks.13._project_conv.weight',\n",
       " 'module._blocks.13._bn2.weight',\n",
       " 'module._blocks.13._bn2.bias',\n",
       " 'module._blocks.14._expand_conv.weight',\n",
       " 'module._blocks.14._bn0.weight',\n",
       " 'module._blocks.14._bn0.bias',\n",
       " 'module._blocks.14._depthwise_conv.weight',\n",
       " 'module._blocks.14._bn1.weight',\n",
       " 'module._blocks.14._bn1.bias',\n",
       " 'module._blocks.14._se_reduce.weight',\n",
       " 'module._blocks.14._se_reduce.bias',\n",
       " 'module._blocks.14._se_expand.weight',\n",
       " 'module._blocks.14._se_expand.bias',\n",
       " 'module._blocks.14._project_conv.weight',\n",
       " 'module._blocks.14._bn2.weight',\n",
       " 'module._blocks.14._bn2.bias',\n",
       " 'module._blocks.15._expand_conv.weight',\n",
       " 'module._blocks.15._bn0.weight',\n",
       " 'module._blocks.15._bn0.bias',\n",
       " 'module._blocks.15._depthwise_conv.weight',\n",
       " 'module._blocks.15._bn1.weight',\n",
       " 'module._blocks.15._bn1.bias',\n",
       " 'module._blocks.15._se_reduce.weight',\n",
       " 'module._blocks.15._se_reduce.bias',\n",
       " 'module._blocks.15._se_expand.weight',\n",
       " 'module._blocks.15._se_expand.bias',\n",
       " 'module._blocks.15._project_conv.weight',\n",
       " 'module._blocks.15._bn2.weight',\n",
       " 'module._blocks.15._bn2.bias',\n",
       " 'module._blocks.16._expand_conv.weight',\n",
       " 'module._blocks.16._bn0.weight',\n",
       " 'module._blocks.16._bn0.bias',\n",
       " 'module._blocks.16._depthwise_conv.weight',\n",
       " 'module._blocks.16._bn1.weight',\n",
       " 'module._blocks.16._bn1.bias',\n",
       " 'module._blocks.16._se_reduce.weight',\n",
       " 'module._blocks.16._se_reduce.bias',\n",
       " 'module._blocks.16._se_expand.weight',\n",
       " 'module._blocks.16._se_expand.bias',\n",
       " 'module._blocks.16._project_conv.weight',\n",
       " 'module._blocks.16._bn2.weight',\n",
       " 'module._blocks.16._bn2.bias',\n",
       " 'module._blocks.17._expand_conv.weight',\n",
       " 'module._blocks.17._bn0.weight',\n",
       " 'module._blocks.17._bn0.bias',\n",
       " 'module._blocks.17._depthwise_conv.weight',\n",
       " 'module._blocks.17._bn1.weight',\n",
       " 'module._blocks.17._bn1.bias',\n",
       " 'module._blocks.17._se_reduce.weight',\n",
       " 'module._blocks.17._se_reduce.bias',\n",
       " 'module._blocks.17._se_expand.weight',\n",
       " 'module._blocks.17._se_expand.bias',\n",
       " 'module._blocks.17._project_conv.weight',\n",
       " 'module._blocks.17._bn2.weight',\n",
       " 'module._blocks.17._bn2.bias',\n",
       " 'module._blocks.18._expand_conv.weight',\n",
       " 'module._blocks.18._bn0.weight',\n",
       " 'module._blocks.18._bn0.bias',\n",
       " 'module._blocks.18._depthwise_conv.weight',\n",
       " 'module._blocks.18._bn1.weight',\n",
       " 'module._blocks.18._bn1.bias',\n",
       " 'module._blocks.18._se_reduce.weight',\n",
       " 'module._blocks.18._se_reduce.bias',\n",
       " 'module._blocks.18._se_expand.weight',\n",
       " 'module._blocks.18._se_expand.bias',\n",
       " 'module._blocks.18._project_conv.weight',\n",
       " 'module._blocks.18._bn2.weight',\n",
       " 'module._blocks.18._bn2.bias',\n",
       " 'module._blocks.19._expand_conv.weight',\n",
       " 'module._blocks.19._bn0.weight',\n",
       " 'module._blocks.19._bn0.bias',\n",
       " 'module._blocks.19._depthwise_conv.weight',\n",
       " 'module._blocks.19._bn1.weight',\n",
       " 'module._blocks.19._bn1.bias',\n",
       " 'module._blocks.19._se_reduce.weight',\n",
       " 'module._blocks.19._se_reduce.bias',\n",
       " 'module._blocks.19._se_expand.weight',\n",
       " 'module._blocks.19._se_expand.bias',\n",
       " 'module._blocks.19._project_conv.weight',\n",
       " 'module._blocks.19._bn2.weight',\n",
       " 'module._blocks.19._bn2.bias',\n",
       " 'module._blocks.20._expand_conv.weight',\n",
       " 'module._blocks.20._bn0.weight',\n",
       " 'module._blocks.20._bn0.bias',\n",
       " 'module._blocks.20._depthwise_conv.weight',\n",
       " 'module._blocks.20._bn1.weight',\n",
       " 'module._blocks.20._bn1.bias',\n",
       " 'module._blocks.20._se_reduce.weight',\n",
       " 'module._blocks.20._se_reduce.bias',\n",
       " 'module._blocks.20._se_expand.weight',\n",
       " 'module._blocks.20._se_expand.bias',\n",
       " 'module._blocks.20._project_conv.weight',\n",
       " 'module._blocks.20._bn2.weight',\n",
       " 'module._blocks.20._bn2.bias',\n",
       " 'module._blocks.21._expand_conv.weight',\n",
       " 'module._blocks.21._bn0.weight',\n",
       " 'module._blocks.21._bn0.bias',\n",
       " 'module._blocks.21._depthwise_conv.weight',\n",
       " 'module._blocks.21._bn1.weight',\n",
       " 'module._blocks.21._bn1.bias',\n",
       " 'module._blocks.21._se_reduce.weight',\n",
       " 'module._blocks.21._se_reduce.bias',\n",
       " 'module._blocks.21._se_expand.weight',\n",
       " 'module._blocks.21._se_expand.bias',\n",
       " 'module._blocks.21._project_conv.weight',\n",
       " 'module._blocks.21._bn2.weight',\n",
       " 'module._blocks.21._bn2.bias',\n",
       " 'module._blocks.22._expand_conv.weight',\n",
       " 'module._blocks.22._bn0.weight',\n",
       " 'module._blocks.22._bn0.bias',\n",
       " 'module._blocks.22._depthwise_conv.weight',\n",
       " 'module._blocks.22._bn1.weight',\n",
       " 'module._blocks.22._bn1.bias',\n",
       " 'module._blocks.22._se_reduce.weight',\n",
       " 'module._blocks.22._se_reduce.bias',\n",
       " 'module._blocks.22._se_expand.weight',\n",
       " 'module._blocks.22._se_expand.bias',\n",
       " 'module._blocks.22._project_conv.weight',\n",
       " 'module._blocks.22._bn2.weight',\n",
       " 'module._blocks.22._bn2.bias',\n",
       " 'module._blocks.23._expand_conv.weight',\n",
       " 'module._blocks.23._bn0.weight',\n",
       " 'module._blocks.23._bn0.bias',\n",
       " 'module._blocks.23._depthwise_conv.weight',\n",
       " 'module._blocks.23._bn1.weight',\n",
       " 'module._blocks.23._bn1.bias',\n",
       " 'module._blocks.23._se_reduce.weight',\n",
       " 'module._blocks.23._se_reduce.bias',\n",
       " 'module._blocks.23._se_expand.weight',\n",
       " 'module._blocks.23._se_expand.bias',\n",
       " 'module._blocks.23._project_conv.weight',\n",
       " 'module._blocks.23._bn2.weight',\n",
       " 'module._blocks.23._bn2.bias',\n",
       " 'module._blocks.24._expand_conv.weight',\n",
       " 'module._blocks.24._bn0.weight',\n",
       " 'module._blocks.24._bn0.bias',\n",
       " 'module._blocks.24._depthwise_conv.weight',\n",
       " 'module._blocks.24._bn1.weight',\n",
       " 'module._blocks.24._bn1.bias',\n",
       " 'module._blocks.24._se_reduce.weight',\n",
       " 'module._blocks.24._se_reduce.bias',\n",
       " 'module._blocks.24._se_expand.weight',\n",
       " 'module._blocks.24._se_expand.bias',\n",
       " 'module._blocks.24._project_conv.weight',\n",
       " 'module._blocks.24._bn2.weight',\n",
       " 'module._blocks.24._bn2.bias',\n",
       " 'module._blocks.25._expand_conv.weight',\n",
       " 'module._blocks.25._bn0.weight',\n",
       " 'module._blocks.25._bn0.bias',\n",
       " 'module._blocks.25._depthwise_conv.weight',\n",
       " 'module._blocks.25._bn1.weight',\n",
       " 'module._blocks.25._bn1.bias',\n",
       " 'module._blocks.25._se_reduce.weight',\n",
       " 'module._blocks.25._se_reduce.bias',\n",
       " 'module._blocks.25._se_expand.weight',\n",
       " 'module._blocks.25._se_expand.bias',\n",
       " 'module._blocks.25._project_conv.weight',\n",
       " 'module._blocks.25._bn2.weight',\n",
       " 'module._blocks.25._bn2.bias',\n",
       " 'module._blocks.26._expand_conv.weight',\n",
       " 'module._blocks.26._bn0.weight',\n",
       " 'module._blocks.26._bn0.bias',\n",
       " 'module._blocks.26._depthwise_conv.weight',\n",
       " 'module._blocks.26._bn1.weight',\n",
       " 'module._blocks.26._bn1.bias',\n",
       " 'module._blocks.26._se_reduce.weight',\n",
       " 'module._blocks.26._se_reduce.bias',\n",
       " 'module._blocks.26._se_expand.weight',\n",
       " 'module._blocks.26._se_expand.bias',\n",
       " 'module._blocks.26._project_conv.weight',\n",
       " 'module._blocks.26._bn2.weight',\n",
       " 'module._blocks.26._bn2.bias',\n",
       " 'module._blocks.27._expand_conv.weight',\n",
       " 'module._blocks.27._bn0.weight',\n",
       " 'module._blocks.27._bn0.bias',\n",
       " 'module._blocks.27._depthwise_conv.weight',\n",
       " 'module._blocks.27._bn1.weight',\n",
       " 'module._blocks.27._bn1.bias',\n",
       " 'module._blocks.27._se_reduce.weight',\n",
       " 'module._blocks.27._se_reduce.bias',\n",
       " 'module._blocks.27._se_expand.weight',\n",
       " 'module._blocks.27._se_expand.bias',\n",
       " 'module._blocks.27._project_conv.weight',\n",
       " 'module._blocks.27._bn2.weight',\n",
       " 'module._blocks.27._bn2.bias',\n",
       " 'module._blocks.28._expand_conv.weight',\n",
       " 'module._blocks.28._bn0.weight',\n",
       " 'module._blocks.28._bn0.bias',\n",
       " 'module._blocks.28._depthwise_conv.weight',\n",
       " 'module._blocks.28._bn1.weight',\n",
       " 'module._blocks.28._bn1.bias',\n",
       " 'module._blocks.28._se_reduce.weight',\n",
       " 'module._blocks.28._se_reduce.bias',\n",
       " 'module._blocks.28._se_expand.weight',\n",
       " 'module._blocks.28._se_expand.bias',\n",
       " 'module._blocks.28._project_conv.weight',\n",
       " 'module._blocks.28._bn2.weight',\n",
       " 'module._blocks.28._bn2.bias',\n",
       " 'module._blocks.29._expand_conv.weight',\n",
       " 'module._blocks.29._bn0.weight',\n",
       " 'module._blocks.29._bn0.bias',\n",
       " 'module._blocks.29._depthwise_conv.weight',\n",
       " 'module._blocks.29._bn1.weight',\n",
       " 'module._blocks.29._bn1.bias',\n",
       " 'module._blocks.29._se_reduce.weight',\n",
       " 'module._blocks.29._se_reduce.bias',\n",
       " 'module._blocks.29._se_expand.weight',\n",
       " 'module._blocks.29._se_expand.bias',\n",
       " 'module._blocks.29._project_conv.weight',\n",
       " 'module._blocks.29._bn2.weight',\n",
       " 'module._blocks.29._bn2.bias',\n",
       " 'module._blocks.30._expand_conv.weight',\n",
       " 'module._blocks.30._bn0.weight',\n",
       " 'module._blocks.30._bn0.bias',\n",
       " 'module._blocks.30._depthwise_conv.weight',\n",
       " 'module._blocks.30._bn1.weight',\n",
       " 'module._blocks.30._bn1.bias',\n",
       " 'module._blocks.30._se_reduce.weight',\n",
       " 'module._blocks.30._se_reduce.bias',\n",
       " 'module._blocks.30._se_expand.weight',\n",
       " 'module._blocks.30._se_expand.bias',\n",
       " 'module._blocks.30._project_conv.weight',\n",
       " 'module._blocks.30._bn2.weight',\n",
       " 'module._blocks.30._bn2.bias',\n",
       " 'module._blocks.31._expand_conv.weight',\n",
       " 'module._blocks.31._bn0.weight',\n",
       " 'module._blocks.31._bn0.bias',\n",
       " 'module._blocks.31._depthwise_conv.weight',\n",
       " 'module._blocks.31._bn1.weight',\n",
       " 'module._blocks.31._bn1.bias',\n",
       " 'module._blocks.31._se_reduce.weight',\n",
       " 'module._blocks.31._se_reduce.bias',\n",
       " 'module._blocks.31._se_expand.weight',\n",
       " 'module._blocks.31._se_expand.bias',\n",
       " 'module._blocks.31._project_conv.weight',\n",
       " 'module._blocks.31._bn2.weight',\n",
       " 'module._blocks.31._bn2.bias',\n",
       " 'module._blocks.32._expand_conv.weight',\n",
       " 'module._blocks.32._bn0.weight',\n",
       " 'module._blocks.32._bn0.bias',\n",
       " 'module._blocks.32._depthwise_conv.weight',\n",
       " 'module._blocks.32._bn1.weight',\n",
       " 'module._blocks.32._bn1.bias',\n",
       " 'module._blocks.32._se_reduce.weight',\n",
       " 'module._blocks.32._se_reduce.bias',\n",
       " 'module._blocks.32._se_expand.weight',\n",
       " 'module._blocks.32._se_expand.bias',\n",
       " 'module._blocks.32._project_conv.weight',\n",
       " 'module._blocks.32._bn2.weight',\n",
       " 'module._blocks.32._bn2.bias',\n",
       " 'module._blocks.33._expand_conv.weight',\n",
       " 'module._blocks.33._bn0.weight',\n",
       " 'module._blocks.33._bn0.bias',\n",
       " 'module._blocks.33._depthwise_conv.weight',\n",
       " 'module._blocks.33._bn1.weight',\n",
       " 'module._blocks.33._bn1.bias',\n",
       " 'module._blocks.33._se_reduce.weight',\n",
       " 'module._blocks.33._se_reduce.bias',\n",
       " 'module._blocks.33._se_expand.weight',\n",
       " 'module._blocks.33._se_expand.bias',\n",
       " 'module._blocks.33._project_conv.weight',\n",
       " 'module._blocks.33._bn2.weight',\n",
       " 'module._blocks.33._bn2.bias',\n",
       " 'module._blocks.34._expand_conv.weight',\n",
       " 'module._blocks.34._bn0.weight',\n",
       " 'module._blocks.34._bn0.bias',\n",
       " 'module._blocks.34._depthwise_conv.weight',\n",
       " 'module._blocks.34._bn1.weight',\n",
       " 'module._blocks.34._bn1.bias',\n",
       " 'module._blocks.34._se_reduce.weight',\n",
       " 'module._blocks.34._se_reduce.bias',\n",
       " 'module._blocks.34._se_expand.weight',\n",
       " 'module._blocks.34._se_expand.bias',\n",
       " 'module._blocks.34._project_conv.weight',\n",
       " 'module._blocks.34._bn2.weight',\n",
       " 'module._blocks.34._bn2.bias',\n",
       " 'module._blocks.35._expand_conv.weight',\n",
       " 'module._blocks.35._bn0.weight',\n",
       " 'module._blocks.35._bn0.bias',\n",
       " 'module._blocks.35._depthwise_conv.weight',\n",
       " 'module._blocks.35._bn1.weight',\n",
       " 'module._blocks.35._bn1.bias',\n",
       " 'module._blocks.35._se_reduce.weight',\n",
       " 'module._blocks.35._se_reduce.bias',\n",
       " 'module._blocks.35._se_expand.weight',\n",
       " 'module._blocks.35._se_expand.bias',\n",
       " 'module._blocks.35._project_conv.weight',\n",
       " 'module._blocks.35._bn2.weight',\n",
       " 'module._blocks.35._bn2.bias',\n",
       " 'module._blocks.36._expand_conv.weight',\n",
       " 'module._blocks.36._bn0.weight',\n",
       " 'module._blocks.36._bn0.bias',\n",
       " 'module._blocks.36._depthwise_conv.weight',\n",
       " 'module._blocks.36._bn1.weight',\n",
       " 'module._blocks.36._bn1.bias',\n",
       " 'module._blocks.36._se_reduce.weight',\n",
       " 'module._blocks.36._se_reduce.bias',\n",
       " 'module._blocks.36._se_expand.weight',\n",
       " 'module._blocks.36._se_expand.bias',\n",
       " 'module._blocks.36._project_conv.weight',\n",
       " 'module._blocks.36._bn2.weight',\n",
       " 'module._blocks.36._bn2.bias',\n",
       " 'module._blocks.37._expand_conv.weight',\n",
       " 'module._blocks.37._bn0.weight',\n",
       " 'module._blocks.37._bn0.bias',\n",
       " 'module._blocks.37._depthwise_conv.weight',\n",
       " 'module._blocks.37._bn1.weight',\n",
       " 'module._blocks.37._bn1.bias',\n",
       " 'module._blocks.37._se_reduce.weight',\n",
       " 'module._blocks.37._se_reduce.bias',\n",
       " 'module._blocks.37._se_expand.weight',\n",
       " 'module._blocks.37._se_expand.bias',\n",
       " 'module._blocks.37._project_conv.weight',\n",
       " 'module._blocks.37._bn2.weight',\n",
       " 'module._blocks.37._bn2.bias',\n",
       " 'module._blocks.38._expand_conv.weight',\n",
       " 'module._blocks.38._bn0.weight',\n",
       " 'module._blocks.38._bn0.bias',\n",
       " 'module._blocks.38._depthwise_conv.weight',\n",
       " 'module._blocks.38._bn1.weight',\n",
       " 'module._blocks.38._bn1.bias',\n",
       " 'module._blocks.38._se_reduce.weight',\n",
       " 'module._blocks.38._se_reduce.bias',\n",
       " 'module._blocks.38._se_expand.weight',\n",
       " 'module._blocks.38._se_expand.bias',\n",
       " 'module._blocks.38._project_conv.weight',\n",
       " 'module._blocks.38._bn2.weight',\n",
       " 'module._blocks.38._bn2.bias',\n",
       " 'module._blocks.39._expand_conv.weight',\n",
       " 'module._blocks.39._bn0.weight',\n",
       " 'module._blocks.39._bn0.bias',\n",
       " 'module._blocks.39._depthwise_conv.weight',\n",
       " 'module._blocks.39._bn1.weight',\n",
       " 'module._blocks.39._bn1.bias',\n",
       " 'module._blocks.39._se_reduce.weight',\n",
       " 'module._blocks.39._se_reduce.bias',\n",
       " 'module._blocks.39._se_expand.weight',\n",
       " 'module._blocks.39._se_expand.bias',\n",
       " 'module._blocks.39._project_conv.weight',\n",
       " 'module._blocks.39._bn2.weight',\n",
       " 'module._blocks.39._bn2.bias',\n",
       " 'module._blocks.40._expand_conv.weight',\n",
       " 'module._blocks.40._bn0.weight',\n",
       " 'module._blocks.40._bn0.bias',\n",
       " 'module._blocks.40._depthwise_conv.weight',\n",
       " 'module._blocks.40._bn1.weight',\n",
       " 'module._blocks.40._bn1.bias',\n",
       " 'module._blocks.40._se_reduce.weight',\n",
       " 'module._blocks.40._se_reduce.bias',\n",
       " 'module._blocks.40._se_expand.weight',\n",
       " 'module._blocks.40._se_expand.bias',\n",
       " 'module._blocks.40._project_conv.weight',\n",
       " 'module._blocks.40._bn2.weight',\n",
       " 'module._blocks.40._bn2.bias',\n",
       " 'module._blocks.41._expand_conv.weight',\n",
       " 'module._blocks.41._bn0.weight',\n",
       " 'module._blocks.41._bn0.bias',\n",
       " 'module._blocks.41._depthwise_conv.weight',\n",
       " 'module._blocks.41._bn1.weight',\n",
       " 'module._blocks.41._bn1.bias',\n",
       " 'module._blocks.41._se_reduce.weight',\n",
       " 'module._blocks.41._se_reduce.bias',\n",
       " 'module._blocks.41._se_expand.weight',\n",
       " 'module._blocks.41._se_expand.bias',\n",
       " 'module._blocks.41._project_conv.weight',\n",
       " 'module._blocks.41._bn2.weight',\n",
       " 'module._blocks.41._bn2.bias',\n",
       " 'module._blocks.42._expand_conv.weight',\n",
       " 'module._blocks.42._bn0.weight',\n",
       " 'module._blocks.42._bn0.bias',\n",
       " 'module._blocks.42._depthwise_conv.weight',\n",
       " 'module._blocks.42._bn1.weight',\n",
       " 'module._blocks.42._bn1.bias',\n",
       " 'module._blocks.42._se_reduce.weight',\n",
       " 'module._blocks.42._se_reduce.bias',\n",
       " 'module._blocks.42._se_expand.weight',\n",
       " 'module._blocks.42._se_expand.bias',\n",
       " 'module._blocks.42._project_conv.weight',\n",
       " 'module._blocks.42._bn2.weight',\n",
       " 'module._blocks.42._bn2.bias',\n",
       " 'module._blocks.43._expand_conv.weight',\n",
       " 'module._blocks.43._bn0.weight',\n",
       " 'module._blocks.43._bn0.bias',\n",
       " 'module._blocks.43._depthwise_conv.weight',\n",
       " 'module._blocks.43._bn1.weight',\n",
       " 'module._blocks.43._bn1.bias',\n",
       " 'module._blocks.43._se_reduce.weight',\n",
       " 'module._blocks.43._se_reduce.bias',\n",
       " 'module._blocks.43._se_expand.weight',\n",
       " 'module._blocks.43._se_expand.bias',\n",
       " 'module._blocks.43._project_conv.weight',\n",
       " 'module._blocks.43._bn2.weight',\n",
       " 'module._blocks.43._bn2.bias',\n",
       " 'module._blocks.44._expand_conv.weight',\n",
       " 'module._blocks.44._bn0.weight',\n",
       " 'module._blocks.44._bn0.bias',\n",
       " 'module._blocks.44._depthwise_conv.weight',\n",
       " 'module._blocks.44._bn1.weight',\n",
       " 'module._blocks.44._bn1.bias',\n",
       " 'module._blocks.44._se_reduce.weight',\n",
       " 'module._blocks.44._se_reduce.bias',\n",
       " 'module._blocks.44._se_expand.weight',\n",
       " 'module._blocks.44._se_expand.bias',\n",
       " 'module._blocks.44._project_conv.weight',\n",
       " 'module._blocks.44._bn2.weight',\n",
       " 'module._blocks.44._bn2.bias',\n",
       " 'module._blocks.45._expand_conv.weight',\n",
       " 'module._blocks.45._bn0.weight',\n",
       " 'module._blocks.45._bn0.bias',\n",
       " 'module._blocks.45._depthwise_conv.weight',\n",
       " 'module._blocks.45._bn1.weight',\n",
       " 'module._blocks.45._bn1.bias',\n",
       " 'module._blocks.45._se_reduce.weight',\n",
       " 'module._blocks.45._se_reduce.bias',\n",
       " 'module._blocks.45._se_expand.weight',\n",
       " 'module._blocks.45._se_expand.bias',\n",
       " 'module._blocks.45._project_conv.weight',\n",
       " 'module._blocks.45._bn2.weight',\n",
       " 'module._blocks.45._bn2.bias',\n",
       " 'module._blocks.46._expand_conv.weight',\n",
       " 'module._blocks.46._bn0.weight',\n",
       " 'module._blocks.46._bn0.bias',\n",
       " 'module._blocks.46._depthwise_conv.weight',\n",
       " 'module._blocks.46._bn1.weight',\n",
       " 'module._blocks.46._bn1.bias',\n",
       " 'module._blocks.46._se_reduce.weight',\n",
       " 'module._blocks.46._se_reduce.bias',\n",
       " 'module._blocks.46._se_expand.weight',\n",
       " 'module._blocks.46._se_expand.bias',\n",
       " 'module._blocks.46._project_conv.weight',\n",
       " 'module._blocks.46._bn2.weight',\n",
       " 'module._blocks.46._bn2.bias',\n",
       " 'module._blocks.47._expand_conv.weight',\n",
       " 'module._blocks.47._bn0.weight',\n",
       " 'module._blocks.47._bn0.bias',\n",
       " 'module._blocks.47._depthwise_conv.weight',\n",
       " 'module._blocks.47._bn1.weight',\n",
       " 'module._blocks.47._bn1.bias',\n",
       " 'module._blocks.47._se_reduce.weight',\n",
       " 'module._blocks.47._se_reduce.bias',\n",
       " 'module._blocks.47._se_expand.weight',\n",
       " 'module._blocks.47._se_expand.bias',\n",
       " 'module._blocks.47._project_conv.weight',\n",
       " 'module._blocks.47._bn2.weight',\n",
       " 'module._blocks.47._bn2.bias',\n",
       " 'module._blocks.48._expand_conv.weight',\n",
       " 'module._blocks.48._bn0.weight',\n",
       " 'module._blocks.48._bn0.bias',\n",
       " 'module._blocks.48._depthwise_conv.weight',\n",
       " 'module._blocks.48._bn1.weight',\n",
       " 'module._blocks.48._bn1.bias',\n",
       " 'module._blocks.48._se_reduce.weight',\n",
       " 'module._blocks.48._se_reduce.bias',\n",
       " 'module._blocks.48._se_expand.weight',\n",
       " 'module._blocks.48._se_expand.bias',\n",
       " 'module._blocks.48._project_conv.weight',\n",
       " 'module._blocks.48._bn2.weight',\n",
       " 'module._blocks.48._bn2.bias',\n",
       " 'module._blocks.49._expand_conv.weight',\n",
       " 'module._blocks.49._bn0.weight',\n",
       " 'module._blocks.49._bn0.bias',\n",
       " 'module._blocks.49._depthwise_conv.weight',\n",
       " 'module._blocks.49._bn1.weight',\n",
       " 'module._blocks.49._bn1.bias',\n",
       " 'module._blocks.49._se_reduce.weight',\n",
       " 'module._blocks.49._se_reduce.bias',\n",
       " 'module._blocks.49._se_expand.weight',\n",
       " 'module._blocks.49._se_expand.bias',\n",
       " 'module._blocks.49._project_conv.weight',\n",
       " 'module._blocks.49._bn2.weight',\n",
       " 'module._blocks.49._bn2.bias',\n",
       " 'module._blocks.50._expand_conv.weight',\n",
       " 'module._blocks.50._bn0.weight',\n",
       " 'module._blocks.50._bn0.bias',\n",
       " 'module._blocks.50._depthwise_conv.weight',\n",
       " 'module._blocks.50._bn1.weight',\n",
       " 'module._blocks.50._bn1.bias',\n",
       " 'module._blocks.50._se_reduce.weight',\n",
       " 'module._blocks.50._se_reduce.bias',\n",
       " 'module._blocks.50._se_expand.weight',\n",
       " 'module._blocks.50._se_expand.bias',\n",
       " 'module._blocks.50._project_conv.weight',\n",
       " 'module._blocks.50._bn2.weight',\n",
       " 'module._blocks.50._bn2.bias',\n",
       " 'module._blocks.51._expand_conv.weight',\n",
       " 'module._blocks.51._bn0.weight',\n",
       " 'module._blocks.51._bn0.bias',\n",
       " 'module._blocks.51._depthwise_conv.weight',\n",
       " 'module._blocks.51._bn1.weight',\n",
       " 'module._blocks.51._bn1.bias',\n",
       " 'module._blocks.51._se_reduce.weight',\n",
       " 'module._blocks.51._se_reduce.bias',\n",
       " 'module._blocks.51._se_expand.weight',\n",
       " 'module._blocks.51._se_expand.bias',\n",
       " 'module._blocks.51._project_conv.weight',\n",
       " 'module._blocks.51._bn2.weight',\n",
       " 'module._blocks.51._bn2.bias',\n",
       " 'module._blocks.52._expand_conv.weight',\n",
       " 'module._blocks.52._bn0.weight',\n",
       " 'module._blocks.52._bn0.bias',\n",
       " 'module._blocks.52._depthwise_conv.weight',\n",
       " 'module._blocks.52._bn1.weight',\n",
       " 'module._blocks.52._bn1.bias',\n",
       " 'module._blocks.52._se_reduce.weight',\n",
       " 'module._blocks.52._se_reduce.bias',\n",
       " 'module._blocks.52._se_expand.weight',\n",
       " 'module._blocks.52._se_expand.bias',\n",
       " 'module._blocks.52._project_conv.weight',\n",
       " 'module._blocks.52._bn2.weight',\n",
       " 'module._blocks.52._bn2.bias',\n",
       " 'module._blocks.53._expand_conv.weight',\n",
       " 'module._blocks.53._bn0.weight',\n",
       " 'module._blocks.53._bn0.bias',\n",
       " 'module._blocks.53._depthwise_conv.weight',\n",
       " 'module._blocks.53._bn1.weight',\n",
       " 'module._blocks.53._bn1.bias',\n",
       " 'module._blocks.53._se_reduce.weight',\n",
       " 'module._blocks.53._se_reduce.bias',\n",
       " 'module._blocks.53._se_expand.weight',\n",
       " 'module._blocks.53._se_expand.bias',\n",
       " 'module._blocks.53._project_conv.weight',\n",
       " 'module._blocks.53._bn2.weight',\n",
       " 'module._blocks.53._bn2.bias',\n",
       " 'module._blocks.54._expand_conv.weight',\n",
       " 'module._blocks.54._bn0.weight',\n",
       " 'module._blocks.54._bn0.bias',\n",
       " 'module._blocks.54._depthwise_conv.weight',\n",
       " 'module._blocks.54._bn1.weight',\n",
       " 'module._blocks.54._bn1.bias',\n",
       " 'module._blocks.54._se_reduce.weight',\n",
       " 'module._blocks.54._se_reduce.bias',\n",
       " 'module._blocks.54._se_expand.weight',\n",
       " 'module._blocks.54._se_expand.bias',\n",
       " 'module._blocks.54._project_conv.weight',\n",
       " 'module._blocks.54._bn2.weight',\n",
       " 'module._blocks.54._bn2.bias',\n",
       " 'module._conv_head.weight',\n",
       " 'module._bn1.weight',\n",
       " 'module._bn1.bias',\n",
       " 'module._fc.weight',\n",
       " 'module._fc.bias']"
      ]
     },
     "execution_count": 145,
     "metadata": {},
     "output_type": "execute_result"
    }
   ],
   "source": [
    "[k for k,v in net.named_parameters()]"
   ]
  },
  {
   "cell_type": "code",
   "execution_count": 125,
   "metadata": {},
   "outputs": [
    {
     "data": {
      "text/plain": [
       "device(type='cuda')"
      ]
     },
     "execution_count": 125,
     "metadata": {},
     "output_type": "execute_result"
    }
   ],
   "source": [
    "gpu"
   ]
  },
  {
   "cell_type": "markdown",
   "metadata": {},
   "source": [
    "Test the model on a small batch to see what its output shape is:"
   ]
  },
  {
   "cell_type": "code",
   "execution_count": 146,
   "metadata": {},
   "outputs": [
    {
     "data": {
      "text/plain": [
       "torch.Size([10, 1])"
      ]
     },
     "execution_count": 146,
     "metadata": {},
     "output_type": "execute_result"
    }
   ],
   "source": [
    "out = net(torch.zeros((10, 3, image_size, image_size)).to(gpu))\n",
    "out.shape"
   ]
  },
  {
   "cell_type": "markdown",
   "metadata": {},
   "source": [
    "Freeze the early layers of the model:"
   ]
  },
  {
   "cell_type": "code",
   "execution_count": 147,
   "metadata": {},
   "outputs": [],
   "source": [
    "def freeze_until(net, param_name):\n",
    "    found_name = False\n",
    "    for name, params in net.named_parameters():\n",
    "        if name == param_name:\n",
    "            found_name = True\n",
    "        params.requires_grad = found_name"
   ]
  },
  {
   "cell_type": "code",
   "execution_count": 148,
   "metadata": {},
   "outputs": [],
   "source": [
    "freeze_layer = \"module._blocks.49._expand_conv.weight\" # depends on network\n",
    "freeze_until(net, freeze_layer)"
   ]
  },
  {
   "cell_type": "markdown",
   "metadata": {},
   "source": [
    "These are the layers we will train:"
   ]
  },
  {
   "cell_type": "code",
   "execution_count": 149,
   "metadata": {},
   "outputs": [
    {
     "data": {
      "text/plain": [
       "['module._blocks.49._expand_conv.weight',\n",
       " 'module._blocks.49._bn0.weight',\n",
       " 'module._blocks.49._bn0.bias',\n",
       " 'module._blocks.49._depthwise_conv.weight',\n",
       " 'module._blocks.49._bn1.weight',\n",
       " 'module._blocks.49._bn1.bias',\n",
       " 'module._blocks.49._se_reduce.weight',\n",
       " 'module._blocks.49._se_reduce.bias',\n",
       " 'module._blocks.49._se_expand.weight',\n",
       " 'module._blocks.49._se_expand.bias',\n",
       " 'module._blocks.49._project_conv.weight',\n",
       " 'module._blocks.49._bn2.weight',\n",
       " 'module._blocks.49._bn2.bias',\n",
       " 'module._blocks.50._expand_conv.weight',\n",
       " 'module._blocks.50._bn0.weight',\n",
       " 'module._blocks.50._bn0.bias',\n",
       " 'module._blocks.50._depthwise_conv.weight',\n",
       " 'module._blocks.50._bn1.weight',\n",
       " 'module._blocks.50._bn1.bias',\n",
       " 'module._blocks.50._se_reduce.weight',\n",
       " 'module._blocks.50._se_reduce.bias',\n",
       " 'module._blocks.50._se_expand.weight',\n",
       " 'module._blocks.50._se_expand.bias',\n",
       " 'module._blocks.50._project_conv.weight',\n",
       " 'module._blocks.50._bn2.weight',\n",
       " 'module._blocks.50._bn2.bias',\n",
       " 'module._blocks.51._expand_conv.weight',\n",
       " 'module._blocks.51._bn0.weight',\n",
       " 'module._blocks.51._bn0.bias',\n",
       " 'module._blocks.51._depthwise_conv.weight',\n",
       " 'module._blocks.51._bn1.weight',\n",
       " 'module._blocks.51._bn1.bias',\n",
       " 'module._blocks.51._se_reduce.weight',\n",
       " 'module._blocks.51._se_reduce.bias',\n",
       " 'module._blocks.51._se_expand.weight',\n",
       " 'module._blocks.51._se_expand.bias',\n",
       " 'module._blocks.51._project_conv.weight',\n",
       " 'module._blocks.51._bn2.weight',\n",
       " 'module._blocks.51._bn2.bias',\n",
       " 'module._blocks.52._expand_conv.weight',\n",
       " 'module._blocks.52._bn0.weight',\n",
       " 'module._blocks.52._bn0.bias',\n",
       " 'module._blocks.52._depthwise_conv.weight',\n",
       " 'module._blocks.52._bn1.weight',\n",
       " 'module._blocks.52._bn1.bias',\n",
       " 'module._blocks.52._se_reduce.weight',\n",
       " 'module._blocks.52._se_reduce.bias',\n",
       " 'module._blocks.52._se_expand.weight',\n",
       " 'module._blocks.52._se_expand.bias',\n",
       " 'module._blocks.52._project_conv.weight',\n",
       " 'module._blocks.52._bn2.weight',\n",
       " 'module._blocks.52._bn2.bias',\n",
       " 'module._blocks.53._expand_conv.weight',\n",
       " 'module._blocks.53._bn0.weight',\n",
       " 'module._blocks.53._bn0.bias',\n",
       " 'module._blocks.53._depthwise_conv.weight',\n",
       " 'module._blocks.53._bn1.weight',\n",
       " 'module._blocks.53._bn1.bias',\n",
       " 'module._blocks.53._se_reduce.weight',\n",
       " 'module._blocks.53._se_reduce.bias',\n",
       " 'module._blocks.53._se_expand.weight',\n",
       " 'module._blocks.53._se_expand.bias',\n",
       " 'module._blocks.53._project_conv.weight',\n",
       " 'module._blocks.53._bn2.weight',\n",
       " 'module._blocks.53._bn2.bias',\n",
       " 'module._blocks.54._expand_conv.weight',\n",
       " 'module._blocks.54._bn0.weight',\n",
       " 'module._blocks.54._bn0.bias',\n",
       " 'module._blocks.54._depthwise_conv.weight',\n",
       " 'module._blocks.54._bn1.weight',\n",
       " 'module._blocks.54._bn1.bias',\n",
       " 'module._blocks.54._se_reduce.weight',\n",
       " 'module._blocks.54._se_reduce.bias',\n",
       " 'module._blocks.54._se_expand.weight',\n",
       " 'module._blocks.54._se_expand.bias',\n",
       " 'module._blocks.54._project_conv.weight',\n",
       " 'module._blocks.54._bn2.weight',\n",
       " 'module._blocks.54._bn2.bias',\n",
       " 'module._conv_head.weight',\n",
       " 'module._bn1.weight',\n",
       " 'module._bn1.bias',\n",
       " 'module._fc.weight',\n",
       " 'module._fc.bias']"
      ]
     },
     "execution_count": 149,
     "metadata": {},
     "output_type": "execute_result"
    }
   ],
   "source": [
    "list_layers(net)"
   ]
  },
  {
   "cell_type": "markdown",
   "metadata": {},
   "source": [
    "From [1](#Binary-Classification-Demo) - Before we train, let's run the model on the validation set. This should give a logloss of about 0.6931."
   ]
  },
  {
   "cell_type": "code",
   "execution_count": 150,
   "metadata": {},
   "outputs": [
    {
     "data": {
      "application/vnd.jupyter.widget-view+json": {
       "model_id": "",
       "version_major": 2,
       "version_minor": 0
      },
      "text/plain": [
       "HBox(children=(FloatProgress(value=0.0, description='Evaluation', max=37.0, style=ProgressStyle(description_wi…"
      ]
     },
     "metadata": {},
     "output_type": "display_data"
    },
    {
     "name": "stdout",
     "output_type": "stream",
     "text": [
      "\r",
      "BCE: 0.6780\n"
     ]
    }
   ],
   "source": [
    "evaluate(net, val_loader, device=gpu)"
   ]
  },
  {
   "cell_type": "markdown",
   "metadata": {},
   "source": [
    "## Training"
   ]
  },
  {
   "cell_type": "code",
   "execution_count": 151,
   "metadata": {},
   "outputs": [],
   "source": [
    "lr = 1e-3\n",
    "wd = 0.\n",
    "\n",
    "history = { \"train_bce\": [], \"val_bce\": [] }\n",
    "iteration = 0\n",
    "epochs_done = 0\n",
    "\n",
    "optimizer = torch.optim.Adam(net.parameters(), lr=lr, weight_decay=wd)"
   ]
  },
  {
   "cell_type": "markdown",
   "metadata": {},
   "source": [
    "At this point you can load the model from the previous checkpoint. If you do, also make sure to restore the optimizer state! Something like this:\n",
    "\n",
    "```python\n",
    "checkpoint = torch.load(\"model-checkpoint.pth\")\n",
    "net.load_state_dict(checkpoint)\n",
    "\n",
    "checkpoint = torch.load(\"optimizer-checkpoint.pth\")\n",
    "optimizer.load_state_dict(checkpoint)\n",
    "```"
   ]
  },
  {
   "cell_type": "markdown",
   "metadata": {},
   "source": [
    "Let's start training!"
   ]
  },
  {
   "cell_type": "code",
   "execution_count": 152,
   "metadata": {},
   "outputs": [
    {
     "data": {
      "text/plain": [
       "[<wandb.wandb_torch.TorchGraph at 0x7f69a0daac10>]"
      ]
     },
     "execution_count": 152,
     "metadata": {},
     "output_type": "execute_result"
    }
   ],
   "source": [
    "if tracking_active:\n",
    "    wandb.watch(net)"
   ]
  },
  {
   "cell_type": "code",
   "execution_count": 153,
   "metadata": {},
   "outputs": [
    {
     "data": {
      "application/vnd.jupyter.widget-view+json": {
       "model_id": "",
       "version_major": 2,
       "version_minor": 0
      },
      "text/plain": [
       "HBox(children=(FloatProgress(value=0.0, max=711.0), HTML(value='')))"
      ]
     },
     "metadata": {},
     "output_type": "display_data"
    },
    {
     "name": "stderr",
     "output_type": "stream",
     "text": [
      "\u001b[34m\u001b[1mwandb\u001b[0m: Wandb version 0.8.35 is available!  To upgrade, please run:\n",
      "\u001b[34m\u001b[1mwandb\u001b[0m:  $ pip install wandb --upgrade\n"
     ]
    },
    {
     "name": "stdout",
     "output_type": "stream",
     "text": [
      "Epoch:   1, train BCE: 0.3269\n",
      "val BCE: 0.2535\n",
      "\n",
      "Epoch:   2, train BCE: 0.1987\n",
      "val BCE: 0.2113\n",
      "\n",
      "Epoch:   3, train BCE: 0.1634\n",
      "val BCE: 0.2082\n",
      "\n",
      "Epoch:   4, train BCE: 0.1593\n",
      "val BCE: 0.2089\n",
      "\n"
     ]
    },
    {
     "name": "stderr",
     "output_type": "stream",
     "text": [
      "IOPub message rate exceeded.\n",
      "The notebook server will temporarily stop sending output\n",
      "to the client in order to avoid crashing it.\n",
      "To change this limit, set the config variable\n",
      "`--NotebookApp.iopub_msg_rate_limit`.\n",
      "\n",
      "Current values:\n",
      "NotebookApp.iopub_msg_rate_limit=1000.0 (msgs/sec)\n",
      "NotebookApp.rate_limit_window=3.0 (secs)\n",
      "\n"
     ]
    },
    {
     "name": "stdout",
     "output_type": "stream",
     "text": [
      "Epoch:   8, train BCE: 0.1612\n",
      "val BCE: 0.2084\n",
      "\n",
      "\r"
     ]
    }
   ],
   "source": [
    "fit(8)"
   ]
  },
  {
   "cell_type": "markdown",
   "metadata": {},
   "source": [
    "Manual learning rate annealing:"
   ]
  },
  {
   "cell_type": "code",
   "execution_count": 83,
   "metadata": {},
   "outputs": [],
   "source": [
    "def set_lr(optimizer, lr):\n",
    "    for param_group in optimizer.param_groups:\n",
    "        param_group[\"lr\"] = lr"
   ]
  },
  {
   "cell_type": "code",
   "execution_count": 84,
   "metadata": {},
   "outputs": [],
   "source": [
    "lr /= 10\n",
    "set_lr(optimizer, lr)"
   ]
  },
  {
   "cell_type": "markdown",
   "metadata": {},
   "source": [
    "Plot training progress. It's nicer to use something like TensorBoard for this, but a simple plot also works. ;-)"
   ]
  },
  {
   "cell_type": "code",
   "execution_count": 154,
   "metadata": {},
   "outputs": [
    {
     "data": {
      "text/plain": [
       "[<matplotlib.lines.Line2D at 0x7f69a292b250>]"
      ]
     },
     "execution_count": 154,
     "metadata": {},
     "output_type": "execute_result"
    },
    {
     "data": {
      "image/png": "[encoded data removed]",
      "text/plain": [
       "<Figure size 432x288 with 1 Axes>"
      ]
     },
     "metadata": {
      "needs_background": "light"
     },
     "output_type": "display_data"
    }
   ],
   "source": [
    "plt.plot(history[\"train_bce\"])"
   ]
  },
  {
   "cell_type": "code",
   "execution_count": 155,
   "metadata": {},
   "outputs": [
    {
     "data": {
      "text/plain": [
       "[<matplotlib.lines.Line2D at 0x7f69a2828f50>]"
      ]
     },
     "execution_count": 155,
     "metadata": {},
     "output_type": "execute_result"
    },
    {
     "data": {
      "image/png": "[encoded data removed]",
      "text/plain": [
       "<Figure size 432x288 with 1 Axes>"
      ]
     },
     "metadata": {
      "needs_background": "light"
     },
     "output_type": "display_data"
    }
   ],
   "source": [
    "plt.plot(history[\"val_bce\"])"
   ]
  },
  {
   "cell_type": "markdown",
   "metadata": {},
   "source": [
    "We now save the model as well as the optimizer to file. We can then use the model in our testing notebook."
   ]
  },
  {
   "cell_type": "code",
   "execution_count": 156,
   "metadata": {},
   "outputs": [],
   "source": [
    "torch.save(net.state_dict(), \"a-train-efficientnet-b7-deep-image-classifier-checkpoint.pth\")"
   ]
  },
  {
   "cell_type": "code",
   "execution_count": 158,
   "metadata": {},
   "outputs": [],
   "source": [
    "torch.save(optimizer.state_dict(), \"optimizer-a-train-efficientnet-b7-deep-image-classifier-checkpoint.pth\")"
   ]
  },
  {
   "cell_type": "markdown",
   "metadata": {},
   "source": [
    "## Fune tune efficientnet"
   ]
  },
  {
   "cell_type": "markdown",
   "metadata": {},
   "source": [
    "Now that we have transfer learned the last few layers, if needed we can train the entire network. Training the entire network with weights initialized near the optimal will make convergence easier."
   ]
  },
  {
   "cell_type": "code",
   "execution_count": null,
   "metadata": {},
   "outputs": [],
   "source": [
    "if tracking_active:\n",
    "    import wandb\n",
    "    wandb.init(\n",
    "        name='efficientnet-finetune-runv1',\n",
    "        project=\"deepfake-detection\",\n",
    "        notes=\"Finetune and train entire network after transfer learning on deepfake images.\",\n",
    "    )"
   ]
  },
  {
   "cell_type": "code",
   "execution_count": null,
   "metadata": {},
   "outputs": [],
   "source": [
    "net.load_state_dict(torch.load('efficientnet-b7-deep-image-classifier-checkpoint.pth', map_location=gpu))"
   ]
  },
  {
   "cell_type": "code",
   "execution_count": null,
   "metadata": {},
   "outputs": [],
   "source": [
    "_ = net.eval()"
   ]
  },
  {
   "cell_type": "code",
   "execution_count": null,
   "metadata": {},
   "outputs": [],
   "source": [
    "## Train full network\n",
    "epochs = 1\n",
    "lr = 1e-4\n",
    "wandb.config.update({\"epochs\": epochs, \"lr\": lr}, allow_val_change=True)"
   ]
  },
  {
   "cell_type": "code",
   "execution_count": null,
   "metadata": {},
   "outputs": [],
   "source": [
    "evaluate(net, val_loader, device=gpu)"
   ]
  },
  {
   "cell_type": "code",
   "execution_count": null,
   "metadata": {},
   "outputs": [],
   "source": [
    "## Training\n",
    "wd = 0.1\n",
    "\n",
    "history = { \"train_bce\": [], \"val_bce\": [] }\n",
    "iteration = 0\n",
    "epochs_done = 0\n",
    "\n",
    "optimizer = torch.optim.Adam(net.parameters(), lr=lr, weight_decay=wd)"
   ]
  },
  {
   "cell_type": "code",
   "execution_count": 50,
   "metadata": {},
   "outputs": [
    {
     "data": {
      "text/plain": [
       "[<wandb.wandb_torch.TorchGraph at 0x7f3e9c921c10>]"
      ]
     },
     "execution_count": 50,
     "metadata": {},
     "output_type": "execute_result"
    }
   ],
   "source": [
    "wandb.watch(net)"
   ]
  },
  {
   "cell_type": "code",
   "execution_count": null,
   "metadata": {},
   "outputs": [],
   "source": [
    "fit(1)"
   ]
  },
  {
   "cell_type": "markdown",
   "metadata": {},
   "source": [
    "## References\n",
    "\n",
    "### Binary Classification Demo\n",
    "1. [Kaggle Kernel for Training a Binary Classifier for deepfake detection](https://www.kaggle.com/humananalog/binary-image-classifier-training-demo)"
   ]
  }
 ],
 "metadata": {
  "kernelspec": {
   "display_name": "Python 3",
   "language": "python",
   "name": "python3"
  },
  "language_info": {
   "codemirror_mode": {
    "name": "ipython",
    "version": 3
   },
   "file_extension": ".py",
   "mimetype": "text/x-python",
   "name": "python",
   "nbconvert_exporter": "python",
   "pygments_lexer": "ipython3",
   "version": "3.6.10"
  }
 },
 "nbformat": 4,
 "nbformat_minor": 1
}
