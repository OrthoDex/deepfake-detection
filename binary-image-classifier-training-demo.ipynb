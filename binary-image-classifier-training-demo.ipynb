version https://git-lfs.github.com/spec/v1
oid sha256:6ff5fb554ca106ef34c0c3065cf434d6dd37d985571979dbff34e07ce5be02fd
size 398094
